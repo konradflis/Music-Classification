{
 "cells": [
  {
   "cell_type": "code",
   "execution_count": null,
   "id": "4a2ea435",
   "metadata": {
    "ExecuteTime": {
     "end_time": "2025-04-30T13:53:07.686053Z",
     "start_time": "2025-04-30T13:52:59.782986Z"
    }
   },
   "outputs": [],
   "source": [
    "import sys\n",
    "import os\n",
    "import librosa\n",
    "import librosa.display\n",
    "import matplotlib.pyplot as plt\n",
    "import pandas as pd\n",
    "import numpy as np\n",
    "sys.path.append(os.path.abspath('..'))\n",
    "import utils\n",
    "from tqdm import tqdm"
   ]
  },
  {
   "cell_type": "code",
   "execution_count": null,
   "id": "dbce612b",
   "metadata": {},
   "outputs": [],
   "source": [
    "AUDIO_DIR = '../dataset/data/genres_original/'"
   ]
  },
  {
   "cell_type": "code",
   "execution_count": null,
   "id": "fab9db60",
   "metadata": {},
   "outputs": [],
   "source": [
    "tracks = pd.read_csv('../project_data/tracks.csv')\n",
    "track_ids = tracks['file_name']"
   ]
  },
  {
   "cell_type": "code",
   "execution_count": null,
   "id": "6844321c",
   "metadata": {},
   "outputs": [],
   "source": [
    "# Create MultiIndex for columns\n",
    "multi_col_index = pd.MultiIndex.from_product(\n",
    "    [range(13), ['mean', 'min', 'max']], names=['mfcc_coeff', 'stat']\n",
    ")\n",
    "\n",
    "# Create DataFrame with MultiIndex columns and track_id as row index\n",
    "mfcc_df = pd.DataFrame(columns=multi_col_index, index=track_ids)\n",
    "\n",
    "for i in tqdm(track_ids, desc=\"Processing tracks\"):\n",
    "    path = utils.get_audio_path(AUDIO_DIR, i)\n",
    "    try:\n",
    "        y, sr = librosa.load(path, sr=None)\n",
    "        mfccs = librosa.feature.mfcc(y=y, sr=sr, n_mfcc=13)\n",
    "\n",
    "        mfcc_mean = np.mean(mfccs, axis=1)\n",
    "        mfcc_min = np.min(mfccs, axis=1)\n",
    "        mfcc_max = np.max(mfccs, axis=1)\n",
    "\n",
    "        data = np.stack([mfcc_mean, mfcc_min, mfcc_max], axis=1).flatten()\n",
    "\n",
    "        mfcc_df.loc[i] = data\n",
    "    except Exception as e:\n",
    "        print(f\"Error processing {i}: {e}\")\n",
    "        continue"
   ]
  },
  {
   "cell_type": "code",
   "execution_count": null,
   "id": "0bf135e6",
   "metadata": {},
   "outputs": [],
   "source": [
    "mfcc_df.reset_index(inplace=True)\n",
    "mfcc_df.head()"
   ]
  },
  {
   "cell_type": "code",
   "execution_count": null,
   "id": "63745a28",
   "metadata": {},
   "outputs": [],
   "source": [
    "mfcc_df.to_csv('mfcc_data_gtzan_v1.csv', index=True)"
   ]
  },
  {
   "cell_type": "code",
   "execution_count": null,
   "id": "d921e30e",
   "metadata": {},
   "outputs": [],
   "source": [
    "mfcc_df = pd.read_csv('mfcc_data_gtzan_v1.csv', header=[0, 1], index_col=0)"
   ]
  },
  {
   "cell_type": "code",
   "execution_count": null,
   "id": "e42d428e",
   "metadata": {},
   "outputs": [],
   "source": [
    "# Define the feature names and statistics\n",
    "features = [\n",
    "    'mfcc',\n",
    "    'spectral_centroid',\n",
    "    'spectral_bandwidth',\n",
    "    'zero_crossing_rate',\n",
    "    'rmse',\n",
    "    'spectral_contrast'\n",
    "]\n",
    "stats = ['mean', 'min', 'max']\n",
    "\n",
    "# Define subfeatures\n",
    "mfcc_subfeatures = list(range(13))\n",
    "single_subfeatures = ['0']  # For centroid, bandwidth, zcr, rmse\n",
    "contrast_subfeatures = list(range(6))  # Spectral contrast now has 6 bands\n",
    "\n",
    "feature_subfeatures = [\n",
    "    mfcc_subfeatures,         # mfcc\n",
    "    single_subfeatures,       # spectral_centroid\n",
    "    single_subfeatures,       # spectral_bandwidth\n",
    "    single_subfeatures,       # zero_crossing_rate\n",
    "    single_subfeatures,       # rmse\n",
    "    contrast_subfeatures      # spectral_contrast\n",
    "]\n",
    "\n",
    "# Create MultiIndex for all features except tempo\n",
    "multi_col_index = pd.MultiIndex.from_tuples(\n",
    "    [(feat, sub, stat)\n",
    "     for feat, sub_feats in zip(features, feature_subfeatures)\n",
    "     for sub in sub_feats\n",
    "     for stat in stats],\n",
    "    names=[\"feature\", \"subfeature\", \"stat\"]\n",
    ")\n",
    "\n",
    "# Add tempo as a single-value column\n",
    "tempo_col = pd.MultiIndex.from_tuples(\n",
    "    [('tempo', '0', '0')],\n",
    "    names=[\"feature\", \"subfeature\", \"stat\"]\n",
    ")\n",
    "\n",
    "# Combine indexes\n",
    "full_index = multi_col_index.append(tempo_col)\n",
    "\n",
    "# Initialize DataFrame\n",
    "feature_df = pd.DataFrame(columns=full_index, index=track_ids)\n",
    "\n",
    "# Processing loop\n",
    "for i in tqdm(track_ids, desc=\"Processing tracks\"):\n",
    "    path = utils.get_audio_path(AUDIO_DIR, i)\n",
    "    try:\n",
    "        y, sr = librosa.load(path, sr=None)\n",
    "\n",
    "        # MFCCs\n",
    "        mfccs = librosa.feature.mfcc(y=y, sr=sr, n_mfcc=13)\n",
    "        mfcc_stats = np.stack([\n",
    "            np.mean(mfccs, axis=1),\n",
    "            np.min(mfccs, axis=1),\n",
    "            np.max(mfccs, axis=1)\n",
    "        ], axis=1)\n",
    "\n",
    "        # Spectral Centroid\n",
    "        centroid = librosa.feature.spectral_centroid(y=y, sr=sr)[0]\n",
    "        centroid_stats = [np.mean(centroid), np.min(centroid), np.max(centroid)]\n",
    "\n",
    "        # Spectral Bandwidth\n",
    "        bandwidth = librosa.feature.spectral_bandwidth(y=y, sr=sr)[0]\n",
    "        bandwidth_stats = [np.mean(bandwidth), np.min(bandwidth), np.max(bandwidth)]\n",
    "\n",
    "        # Zero Crossing Rate\n",
    "        zcr = librosa.feature.zero_crossing_rate(y)[0]\n",
    "        zcr_stats = [np.mean(zcr), np.min(zcr), np.max(zcr)]\n",
    "\n",
    "        # Root Mean Square Energy (RMSE)\n",
    "        rmse = librosa.feature.rms(y=y)[0]\n",
    "        rmse_stats = [np.mean(rmse), np.min(rmse), np.max(rmse)]\n",
    "\n",
    "        # Spectral Contrast\n",
    "        contrast = librosa.feature.spectral_contrast(y=y, sr=sr)\n",
    "        contrast_stats = np.stack([\n",
    "            np.mean(contrast[:-1], axis=1),  # Exclude the last band\n",
    "            np.min(contrast[:-1], axis=1),\n",
    "            np.max(contrast[:-1], axis=1)\n",
    "        ], axis=1)\n",
    "\n",
    "        # Tempo\n",
    "        tempo, _ = librosa.beat.beat_track(y=y, sr=sr)\n",
    "\n",
    "        # Combine all data\n",
    "        row_data = []\n",
    "        row_data.extend(mfcc_stats.flatten())\n",
    "        row_data.extend(centroid_stats)\n",
    "        row_data.extend(bandwidth_stats)\n",
    "        row_data.extend(zcr_stats)\n",
    "        row_data.extend(rmse_stats)\n",
    "        row_data.extend(contrast_stats.flatten())\n",
    "        row_data.append(tempo[0])  # Single value for tempo\n",
    "\n",
    "        feature_df.loc[i] = row_data\n",
    "\n",
    "    except Exception as e:\n",
    "        print(f\"Error processing {i}: {e}\")\n",
    "        continue\n"
   ]
  },
  {
   "cell_type": "code",
   "execution_count": null,
   "id": "85701805",
   "metadata": {},
   "outputs": [],
   "source": [
    "feature_df.reset_index(inplace=True)"
   ]
  },
  {
   "cell_type": "code",
   "execution_count": null,
   "id": "710c1111",
   "metadata": {},
   "outputs": [],
   "source": [
    "feature_df.head()"
   ]
  },
  {
   "cell_type": "code",
   "execution_count": null,
   "id": "559d635e",
   "metadata": {},
   "outputs": [],
   "source": [
    "feature_df.to_csv('mfcc_data_gtzan_v2.csv', index=True)"
   ]
  },
  {
   "cell_type": "code",
   "execution_count": null,
   "id": "38b9d3c3",
   "metadata": {},
   "outputs": [],
   "source": [
    "# To properly load the CSV with MultiIndex columns:\n",
    "feature_df = pd.read_csv('mfcc_data_gtzan_v2.csv', header=[0, 1, 2], index_col=0)"
   ]
  }
 ],
 "metadata": {
  "kernelspec": {
   "display_name": ".venv",
   "language": "python",
   "name": "python3"
  },
  "language_info": {
   "codemirror_mode": {
    "name": "ipython",
    "version": 3
   },
   "file_extension": ".py",
   "mimetype": "text/x-python",
   "name": "python",
   "nbconvert_exporter": "python",
   "pygments_lexer": "ipython3",
   "version": "3.12.8"
  }
 },
 "nbformat": 4,
 "nbformat_minor": 5
}
