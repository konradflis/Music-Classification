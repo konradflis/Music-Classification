{
 "cells": [
  {
   "cell_type": "code",
   "execution_count": 1,
   "id": "4a2ea435",
   "metadata": {
    "ExecuteTime": {
     "end_time": "2025-04-30T13:53:07.686053Z",
     "start_time": "2025-04-30T13:52:59.782986Z"
    }
   },
   "outputs": [],
   "source": [
    "import sys\n",
    "import os\n",
    "import librosa\n",
    "import librosa.display\n",
    "import matplotlib.pyplot as plt\n",
    "import pandas as pd\n",
    "import numpy as np\n",
    "sys.path.append(os.path.abspath('..'))\n",
    "import utils"
   ]
  },
  {
   "cell_type": "code",
   "execution_count": 2,
   "id": "dbce612b",
   "metadata": {},
   "outputs": [],
   "source": [
    "AUDIO_DIR = '../dataset/data/genres_original/'"
   ]
  },
  {
   "cell_type": "code",
   "execution_count": 3,
   "id": "fab9db60",
   "metadata": {},
   "outputs": [],
   "source": [
    "tracks = pd.read_csv('../project_data/tracks.csv')\n",
    "track_ids = tracks['file_name']"
   ]
  },
  {
   "cell_type": "code",
   "execution_count": 4,
   "id": "6844321c",
   "metadata": {},
   "outputs": [
    {
     "name": "stdout",
     "output_type": "stream",
     "text": [
      "Processing track 100...\n",
      "Processing track 200...\n",
      "Processing track 300...\n",
      "Processing track 400...\n",
      "Processing track 500...\n",
      "Processing track 600...\n",
      "Processing track 700...\n",
      "Processing track 800...\n",
      "Processing track 900...\n"
     ]
    }
   ],
   "source": [
    "# Create MultiIndex for columns\n",
    "multi_col_index = pd.MultiIndex.from_product(\n",
    "    [range(13), ['mean', 'min', 'max']], names=['mfcc_coeff', 'stat']\n",
    ")\n",
    "\n",
    "# Create DataFrame with MultiIndex columns and track_id as row index\n",
    "mfcc_df = pd.DataFrame(columns=multi_col_index, index=track_ids)\n",
    "\n",
    "cnt = 0\n",
    "\n",
    "for i in track_ids:\n",
    "    cnt += 1\n",
    "    if cnt % 100 == 0:\n",
    "        print(f\"Processing track {cnt}...\")\n",
    "    path = utils.get_audio_path(AUDIO_DIR, i)\n",
    "    try:\n",
    "        y, sr = librosa.load(path, sr=None)\n",
    "        mfccs = librosa.feature.mfcc(y=y, sr=sr, n_mfcc=13)\n",
    "\n",
    "        mfcc_mean = np.mean(mfccs, axis=1)\n",
    "        mfcc_min = np.min(mfccs, axis=1)\n",
    "        mfcc_max = np.max(mfccs, axis=1)\n",
    "\n",
    "        data = np.stack([mfcc_mean, mfcc_min, mfcc_max], axis=1).flatten()\n",
    "\n",
    "        mfcc_df.loc[i] = data\n",
    "    except Exception as e:\n",
    "        print(f\"Error processing {i}: {e}\")\n",
    "        continue"
   ]
  },
  {
   "cell_type": "code",
   "execution_count": 5,
   "id": "0bf135e6",
   "metadata": {},
   "outputs": [
    {
     "data": {
      "application/vnd.microsoft.datawrangler.viewer.v0+json": {
       "columns": [
        {
         "name": "index",
         "rawType": "int64",
         "type": "integer"
        },
        {
         "name": "('file_name', '')",
         "rawType": "object",
         "type": "string"
        },
        {
         "name": "(0, 'mean')",
         "rawType": "object",
         "type": "unknown"
        },
        {
         "name": "(0, 'min')",
         "rawType": "object",
         "type": "unknown"
        },
        {
         "name": "(0, 'max')",
         "rawType": "object",
         "type": "unknown"
        },
        {
         "name": "(1, 'mean')",
         "rawType": "object",
         "type": "unknown"
        },
        {
         "name": "(1, 'min')",
         "rawType": "object",
         "type": "unknown"
        },
        {
         "name": "(1, 'max')",
         "rawType": "object",
         "type": "unknown"
        },
        {
         "name": "(2, 'mean')",
         "rawType": "object",
         "type": "unknown"
        },
        {
         "name": "(2, 'min')",
         "rawType": "object",
         "type": "unknown"
        },
        {
         "name": "(2, 'max')",
         "rawType": "object",
         "type": "unknown"
        },
        {
         "name": "(3, 'mean')",
         "rawType": "object",
         "type": "unknown"
        },
        {
         "name": "(3, 'min')",
         "rawType": "object",
         "type": "unknown"
        },
        {
         "name": "(3, 'max')",
         "rawType": "object",
         "type": "unknown"
        },
        {
         "name": "(4, 'mean')",
         "rawType": "object",
         "type": "unknown"
        },
        {
         "name": "(4, 'min')",
         "rawType": "object",
         "type": "unknown"
        },
        {
         "name": "(4, 'max')",
         "rawType": "object",
         "type": "unknown"
        },
        {
         "name": "(5, 'mean')",
         "rawType": "object",
         "type": "unknown"
        },
        {
         "name": "(5, 'min')",
         "rawType": "object",
         "type": "unknown"
        },
        {
         "name": "(5, 'max')",
         "rawType": "object",
         "type": "unknown"
        },
        {
         "name": "(6, 'mean')",
         "rawType": "object",
         "type": "unknown"
        },
        {
         "name": "(6, 'min')",
         "rawType": "object",
         "type": "unknown"
        },
        {
         "name": "(6, 'max')",
         "rawType": "object",
         "type": "unknown"
        },
        {
         "name": "(7, 'mean')",
         "rawType": "object",
         "type": "unknown"
        },
        {
         "name": "(7, 'min')",
         "rawType": "object",
         "type": "unknown"
        },
        {
         "name": "(7, 'max')",
         "rawType": "object",
         "type": "unknown"
        },
        {
         "name": "(8, 'mean')",
         "rawType": "object",
         "type": "unknown"
        },
        {
         "name": "(8, 'min')",
         "rawType": "object",
         "type": "unknown"
        },
        {
         "name": "(8, 'max')",
         "rawType": "object",
         "type": "unknown"
        },
        {
         "name": "(9, 'mean')",
         "rawType": "object",
         "type": "unknown"
        },
        {
         "name": "(9, 'min')",
         "rawType": "object",
         "type": "unknown"
        },
        {
         "name": "(9, 'max')",
         "rawType": "object",
         "type": "unknown"
        },
        {
         "name": "(10, 'mean')",
         "rawType": "object",
         "type": "unknown"
        },
        {
         "name": "(10, 'min')",
         "rawType": "object",
         "type": "unknown"
        },
        {
         "name": "(10, 'max')",
         "rawType": "object",
         "type": "unknown"
        },
        {
         "name": "(11, 'mean')",
         "rawType": "object",
         "type": "unknown"
        },
        {
         "name": "(11, 'min')",
         "rawType": "object",
         "type": "unknown"
        },
        {
         "name": "(11, 'max')",
         "rawType": "object",
         "type": "unknown"
        },
        {
         "name": "(12, 'mean')",
         "rawType": "object",
         "type": "unknown"
        },
        {
         "name": "(12, 'min')",
         "rawType": "object",
         "type": "unknown"
        },
        {
         "name": "(12, 'max')",
         "rawType": "object",
         "type": "unknown"
        }
       ],
       "conversionMethod": "pd.DataFrame",
       "ref": "3f722be7-8c33-4a3e-bf76-936451b02772",
       "rows": [
        [
         "0",
         "blues.00000.wav",
         "-113.59882354736328",
         "-257.9110107421875",
         "21.742055892944336",
         "121.57067108154297",
         "46.89046096801758",
         "164.7547607421875",
         "-19.162261962890625",
         "-70.90015411376953",
         "28.366945266723633",
         "42.36394119262695",
         "-1.2741488218307495",
         "71.43293762207031",
         "-6.3622660636901855",
         "-49.18486785888672",
         "30.379974365234375",
         "18.621931076049805",
         "-14.367301940917969",
         "41.80767059326172",
         "-13.69973373413086",
         "-38.83380126953125",
         "14.780132293701172",
         "15.339801788330078",
         "-10.57763671875",
         "43.63489532470703",
         "-12.274304389953613",
         "-38.79335021972656",
         "13.907669067382812",
         "10.97094440460205",
         "-14.33853530883789",
         "39.42435073852539",
         "-8.326061248779297",
         "-33.12556457519531",
         "15.191150665283203",
         "8.802087783813477",
         "-12.483556747436523",
         "31.242996215820312",
         "-3.6699414253234863",
         "-26.569305419921875",
         "22.48209571838379"
        ],
        [
         "1",
         "blues.00001.wav",
         "-207.52383422851562",
         "-448.5556335449219",
         "-25.956674575805664",
         "123.98513793945312",
         "28.88228988647461",
         "192.77078247070312",
         "8.94701862335205",
         "-78.69281005859375",
         "59.997047424316406",
         "35.867149353027344",
         "-26.024188995361328",
         "76.58583068847656",
         "2.9095942974090576",
         "-42.474632263183594",
         "42.422393798828125",
         "21.519474029541016",
         "-26.499961853027344",
         "50.965457916259766",
         "-8.556511878967285",
         "-57.465919494628906",
         "28.447265625",
         "23.370676040649414",
         "-14.0322265625",
         "57.322296142578125",
         "-10.103608131408691",
         "-52.36970520019531",
         "21.894630432128906",
         "11.899242401123047",
         "-29.54637908935547",
         "40.40428161621094",
         "-5.558823585510254",
         "-37.25718688964844",
         "24.502065658569336",
         "5.377876281738281",
         "-25.34941864013672",
         "37.242591857910156",
         "-2.234492063522339",
         "-27.1895751953125",
         "19.23003387451172"
        ],
        [
         "2",
         "blues.00002.wav",
         "-90.75716400146484",
         "-343.934814453125",
         "32.401397705078125",
         "140.4408721923828",
         "-11.79529094696045",
         "198.83848571777344",
         "-29.08454704284668",
         "-85.00932312011719",
         "46.54784393310547",
         "31.68669319152832",
         "1.0605387687683105",
         "91.40402221679688",
         "-13.976547241210938",
         "-64.44110107421875",
         "37.09912109375",
         "25.753751754760742",
         "-5.9715704917907715",
         "61.29363250732422",
         "-13.664990425109863",
         "-51.17915344238281",
         "25.83951187133789",
         "11.634442329406738",
         "-31.28577423095703",
         "34.020233154296875",
         "-11.778322219848633",
         "-34.67150115966797",
         "29.949432373046875",
         "9.71475601196289",
         "-33.70801544189453",
         "31.050621032714844",
         "-13.125313758850098",
         "-45.1903076171875",
         "13.120670318603516",
         "5.7912468910217285",
         "-32.569252014160156",
         "25.241777420043945",
         "-8.90196704864502",
         "-28.854305267333984",
         "23.078027725219727"
        ],
        [
         "3",
         "blues.00003.wav",
         "-199.57513427734375",
         "-363.95361328125",
         "-14.066173553466797",
         "150.0861053466797",
         "62.80178451538086",
         "235.07391357421875",
         "5.6634039878845215",
         "-63.06709289550781",
         "43.56199645996094",
         "26.855281829833984",
         "-27.263675689697266",
         "63.492591857910156",
         "1.770071268081665",
         "-49.73822021484375",
         "37.437782287597656",
         "14.232646942138672",
         "-24.058448791503906",
         "56.015830993652344",
         "-4.827844619750977",
         "-45.37323760986328",
         "21.049339294433594",
         "9.286852836608887",
         "-18.335243225097656",
         "30.78329086303711",
         "-0.7561201453208923",
         "-29.54819107055664",
         "25.273714065551758",
         "8.134434700012207",
         "-29.347537994384766",
         "32.76179504394531",
         "-3.200026035308838",
         "-45.5982666015625",
         "25.346261978149414",
         "6.078081130981445",
         "-14.12201976776123",
         "40.363243103027344",
         "-2.478445053100586",
         "-32.89056396484375",
         "20.651330947875977"
        ],
        [
         "4",
         "blues.00004.wav",
         "-160.3541717529297",
         "-356.30291748046875",
         "-6.147504806518555",
         "126.2094955444336",
         "-11.409154891967773",
         "188.28465270996094",
         "-35.58139419555664",
         "-84.61236572265625",
         "21.92325782775879",
         "22.13925552368164",
         "-13.978872299194336",
         "86.17343139648438",
         "-32.473548889160156",
         "-96.11962890625",
         "18.551868438720703",
         "10.850701332092285",
         "-21.32746124267578",
         "46.32914352416992",
         "-23.35007095336914",
         "-65.48233032226562",
         "0.2743498682975769",
         "0.4932488799095154",
         "-27.954872131347656",
         "33.73067855834961",
         "-11.796538352966309",
         "-44.25858688354492",
         "24.094099044799805",
         "1.2035191059112549",
         "-24.465713500976562",
         "30.68413543701172",
         "-13.084959030151367",
         "-41.4092903137207",
         "24.97995948791504",
         "-2.810499429702759",
         "-30.323238372802734",
         "31.721019744873047",
         "-6.9344706535339355",
         "-36.60730743408203",
         "24.070384979248047"
        ]
       ],
       "shape": {
        "columns": 40,
        "rows": 5
       }
      },
      "text/html": [
       "<div>\n",
       "<style scoped>\n",
       "    .dataframe tbody tr th:only-of-type {\n",
       "        vertical-align: middle;\n",
       "    }\n",
       "\n",
       "    .dataframe tbody tr th {\n",
       "        vertical-align: top;\n",
       "    }\n",
       "\n",
       "    .dataframe thead tr th {\n",
       "        text-align: left;\n",
       "    }\n",
       "</style>\n",
       "<table border=\"1\" class=\"dataframe\">\n",
       "  <thead>\n",
       "    <tr>\n",
       "      <th>mfcc_coeff</th>\n",
       "      <th>file_name</th>\n",
       "      <th colspan=\"3\" halign=\"left\">0</th>\n",
       "      <th colspan=\"3\" halign=\"left\">1</th>\n",
       "      <th colspan=\"3\" halign=\"left\">2</th>\n",
       "      <th>...</th>\n",
       "      <th>9</th>\n",
       "      <th colspan=\"3\" halign=\"left\">10</th>\n",
       "      <th colspan=\"3\" halign=\"left\">11</th>\n",
       "      <th colspan=\"3\" halign=\"left\">12</th>\n",
       "    </tr>\n",
       "    <tr>\n",
       "      <th>stat</th>\n",
       "      <th></th>\n",
       "      <th>mean</th>\n",
       "      <th>min</th>\n",
       "      <th>max</th>\n",
       "      <th>mean</th>\n",
       "      <th>min</th>\n",
       "      <th>max</th>\n",
       "      <th>mean</th>\n",
       "      <th>min</th>\n",
       "      <th>max</th>\n",
       "      <th>...</th>\n",
       "      <th>max</th>\n",
       "      <th>mean</th>\n",
       "      <th>min</th>\n",
       "      <th>max</th>\n",
       "      <th>mean</th>\n",
       "      <th>min</th>\n",
       "      <th>max</th>\n",
       "      <th>mean</th>\n",
       "      <th>min</th>\n",
       "      <th>max</th>\n",
       "    </tr>\n",
       "  </thead>\n",
       "  <tbody>\n",
       "    <tr>\n",
       "      <th>0</th>\n",
       "      <td>blues.00000.wav</td>\n",
       "      <td>-113.598824</td>\n",
       "      <td>-257.911011</td>\n",
       "      <td>21.742056</td>\n",
       "      <td>121.570671</td>\n",
       "      <td>46.890461</td>\n",
       "      <td>164.754761</td>\n",
       "      <td>-19.162262</td>\n",
       "      <td>-70.900154</td>\n",
       "      <td>28.366945</td>\n",
       "      <td>...</td>\n",
       "      <td>39.424351</td>\n",
       "      <td>-8.326061</td>\n",
       "      <td>-33.125565</td>\n",
       "      <td>15.191151</td>\n",
       "      <td>8.802088</td>\n",
       "      <td>-12.483557</td>\n",
       "      <td>31.242996</td>\n",
       "      <td>-3.669941</td>\n",
       "      <td>-26.569305</td>\n",
       "      <td>22.482096</td>\n",
       "    </tr>\n",
       "    <tr>\n",
       "      <th>1</th>\n",
       "      <td>blues.00001.wav</td>\n",
       "      <td>-207.523834</td>\n",
       "      <td>-448.555634</td>\n",
       "      <td>-25.956675</td>\n",
       "      <td>123.985138</td>\n",
       "      <td>28.88229</td>\n",
       "      <td>192.770782</td>\n",
       "      <td>8.947019</td>\n",
       "      <td>-78.69281</td>\n",
       "      <td>59.997047</td>\n",
       "      <td>...</td>\n",
       "      <td>40.404282</td>\n",
       "      <td>-5.558824</td>\n",
       "      <td>-37.257187</td>\n",
       "      <td>24.502066</td>\n",
       "      <td>5.377876</td>\n",
       "      <td>-25.349419</td>\n",
       "      <td>37.242592</td>\n",
       "      <td>-2.234492</td>\n",
       "      <td>-27.189575</td>\n",
       "      <td>19.230034</td>\n",
       "    </tr>\n",
       "    <tr>\n",
       "      <th>2</th>\n",
       "      <td>blues.00002.wav</td>\n",
       "      <td>-90.757164</td>\n",
       "      <td>-343.934814</td>\n",
       "      <td>32.401398</td>\n",
       "      <td>140.440872</td>\n",
       "      <td>-11.795291</td>\n",
       "      <td>198.838486</td>\n",
       "      <td>-29.084547</td>\n",
       "      <td>-85.009323</td>\n",
       "      <td>46.547844</td>\n",
       "      <td>...</td>\n",
       "      <td>31.050621</td>\n",
       "      <td>-13.125314</td>\n",
       "      <td>-45.190308</td>\n",
       "      <td>13.12067</td>\n",
       "      <td>5.791247</td>\n",
       "      <td>-32.569252</td>\n",
       "      <td>25.241777</td>\n",
       "      <td>-8.901967</td>\n",
       "      <td>-28.854305</td>\n",
       "      <td>23.078028</td>\n",
       "    </tr>\n",
       "    <tr>\n",
       "      <th>3</th>\n",
       "      <td>blues.00003.wav</td>\n",
       "      <td>-199.575134</td>\n",
       "      <td>-363.953613</td>\n",
       "      <td>-14.066174</td>\n",
       "      <td>150.086105</td>\n",
       "      <td>62.801785</td>\n",
       "      <td>235.073914</td>\n",
       "      <td>5.663404</td>\n",
       "      <td>-63.067093</td>\n",
       "      <td>43.561996</td>\n",
       "      <td>...</td>\n",
       "      <td>32.761795</td>\n",
       "      <td>-3.200026</td>\n",
       "      <td>-45.598267</td>\n",
       "      <td>25.346262</td>\n",
       "      <td>6.078081</td>\n",
       "      <td>-14.12202</td>\n",
       "      <td>40.363243</td>\n",
       "      <td>-2.478445</td>\n",
       "      <td>-32.890564</td>\n",
       "      <td>20.651331</td>\n",
       "    </tr>\n",
       "    <tr>\n",
       "      <th>4</th>\n",
       "      <td>blues.00004.wav</td>\n",
       "      <td>-160.354172</td>\n",
       "      <td>-356.302917</td>\n",
       "      <td>-6.147505</td>\n",
       "      <td>126.209496</td>\n",
       "      <td>-11.409155</td>\n",
       "      <td>188.284653</td>\n",
       "      <td>-35.581394</td>\n",
       "      <td>-84.612366</td>\n",
       "      <td>21.923258</td>\n",
       "      <td>...</td>\n",
       "      <td>30.684135</td>\n",
       "      <td>-13.084959</td>\n",
       "      <td>-41.40929</td>\n",
       "      <td>24.979959</td>\n",
       "      <td>-2.810499</td>\n",
       "      <td>-30.323238</td>\n",
       "      <td>31.72102</td>\n",
       "      <td>-6.934471</td>\n",
       "      <td>-36.607307</td>\n",
       "      <td>24.070385</td>\n",
       "    </tr>\n",
       "  </tbody>\n",
       "</table>\n",
       "<p>5 rows × 40 columns</p>\n",
       "</div>"
      ],
      "text/plain": [
       "mfcc_coeff        file_name           0                                  1  \\\n",
       "stat                               mean         min        max        mean   \n",
       "0           blues.00000.wav -113.598824 -257.911011  21.742056  121.570671   \n",
       "1           blues.00001.wav -207.523834 -448.555634 -25.956675  123.985138   \n",
       "2           blues.00002.wav  -90.757164 -343.934814  32.401398  140.440872   \n",
       "3           blues.00003.wav -199.575134 -363.953613 -14.066174  150.086105   \n",
       "4           blues.00004.wav -160.354172 -356.302917  -6.147505  126.209496   \n",
       "\n",
       "mfcc_coeff                                 2                        ...  \\\n",
       "stat              min         max       mean        min        max  ...   \n",
       "0           46.890461  164.754761 -19.162262 -70.900154  28.366945  ...   \n",
       "1            28.88229  192.770782   8.947019  -78.69281  59.997047  ...   \n",
       "2          -11.795291  198.838486 -29.084547 -85.009323  46.547844  ...   \n",
       "3           62.801785  235.073914   5.663404 -63.067093  43.561996  ...   \n",
       "4          -11.409155  188.284653 -35.581394 -84.612366  21.923258  ...   \n",
       "\n",
       "mfcc_coeff          9         10                              11             \\\n",
       "stat              max       mean        min        max      mean        min   \n",
       "0           39.424351  -8.326061 -33.125565  15.191151  8.802088 -12.483557   \n",
       "1           40.404282  -5.558824 -37.257187  24.502066  5.377876 -25.349419   \n",
       "2           31.050621 -13.125314 -45.190308   13.12067  5.791247 -32.569252   \n",
       "3           32.761795  -3.200026 -45.598267  25.346262  6.078081  -14.12202   \n",
       "4           30.684135 -13.084959  -41.40929  24.979959 -2.810499 -30.323238   \n",
       "\n",
       "mfcc_coeff                   12                        \n",
       "stat              max      mean        min        max  \n",
       "0           31.242996 -3.669941 -26.569305  22.482096  \n",
       "1           37.242592 -2.234492 -27.189575  19.230034  \n",
       "2           25.241777 -8.901967 -28.854305  23.078028  \n",
       "3           40.363243 -2.478445 -32.890564  20.651331  \n",
       "4            31.72102 -6.934471 -36.607307  24.070385  \n",
       "\n",
       "[5 rows x 40 columns]"
      ]
     },
     "execution_count": 5,
     "metadata": {},
     "output_type": "execute_result"
    }
   ],
   "source": [
    "mfcc_df.reset_index(inplace=True)\n",
    "mfcc_df.head()"
   ]
  },
  {
   "cell_type": "code",
   "execution_count": 6,
   "id": "63745a28",
   "metadata": {},
   "outputs": [],
   "source": [
    "mfcc_df.to_csv('mfcc_data_gtzan_v1.csv', index=True)"
   ]
  },
  {
   "cell_type": "code",
   "execution_count": 7,
   "id": "d921e30e",
   "metadata": {},
   "outputs": [],
   "source": [
    "mfcc_df = pd.read_csv('mfcc_data_gtzan_v1.csv', header=[0, 1], index_col=0)"
   ]
  }
 ],
 "metadata": {
  "kernelspec": {
   "display_name": ".venv",
   "language": "python",
   "name": "python3"
  },
  "language_info": {
   "codemirror_mode": {
    "name": "ipython",
    "version": 3
   },
   "file_extension": ".py",
   "mimetype": "text/x-python",
   "name": "python",
   "nbconvert_exporter": "python",
   "pygments_lexer": "ipython3",
   "version": "3.12.8"
  }
 },
 "nbformat": 4,
 "nbformat_minor": 5
}
