{
 "cells": [
  {
   "metadata": {},
   "cell_type": "markdown",
   "source": "## Test Mel Spectogram",
   "id": "747375ed53d58c41"
  },
  {
   "metadata": {},
   "cell_type": "markdown",
   "source": "### Import library",
   "id": "b51b3df215bd2da1"
  },
  {
   "metadata": {
    "ExecuteTime": {
     "end_time": "2025-04-30T15:22:49.316542Z",
     "start_time": "2025-04-30T15:22:49.262522Z"
    }
   },
   "cell_type": "code",
   "source": [
    "import librosa\n",
    "import numpy as np\n",
    "import pandas as pd\n",
    "import matplotlib.pyplot as plt\n",
    "from pathlib import Path\n",
    "import cv2\n",
    "import os"
   ],
   "id": "b6150aedc04a866e",
   "outputs": [],
   "execution_count": 74
  },
  {
   "metadata": {},
   "cell_type": "markdown",
   "source": "### Spectogram",
   "id": "57fdbbf1c131d168"
  },
  {
   "metadata": {
    "ExecuteTime": {
     "end_time": "2025-04-30T15:32:36.933158Z",
     "start_time": "2025-04-30T15:32:36.921587Z"
    }
   },
   "cell_type": "code",
   "source": [
    "def mp3_to_melspec(mp3_file, output_path, *, sr=22050, duration=30, n_fft=2048, n_mels=244, hop_length=2713):\n",
    "\n",
    "    y, sr = librosa.load(mp3_file, sr=sr, duration=duration)\n",
    "\n",
    "    # calculete mel-spectogram\n",
    "    mel_spec = librosa.feature.melspectrogram(\n",
    "    y=y, sr=sr, n_fft=n_fft, hop_length=hop_length, n_mels=n_mels\n",
    "    )\n",
    "    mel_spec_db = librosa.power_to_db(mel_spec, ref=np.max)\n",
    "    normalized = (mel_spec_db - np.min(mel_spec_db)) / (np.max(mel_spec_db)-np.min(mel_spec_db))  #\n",
    "\n",
    "    os.makedirs(os.path.dirname(output_path), exist_ok=True)\n",
    "    librosa.display.specshow(normalized, sr=sr, hop_length=hop_length)\n",
    "    plt.savefig(str(output_path), bbox_inches='tight', pad_inches=0)\n",
    "    plt.close()"
   ],
   "id": "a816c74cada4988d",
   "outputs": [],
   "execution_count": 85
  },
  {
   "metadata": {
    "ExecuteTime": {
     "end_time": "2025-04-30T15:32:39.799803Z",
     "start_time": "2025-04-30T15:32:39.350250Z"
    }
   },
   "cell_type": "code",
   "source": [
    "AUDIO_PATH = Path.cwd() / 'project_data' / 'audio_data'\n",
    "SPECT_PATH = Path.cwd() / 'project_data' / 'spectrogram_data'\n",
    "mp3_files = AUDIO_PATH.glob('*.mp3')\n",
    "\n",
    "for file in mp3_files:\n",
    "    file_stem = file.stem\n",
    "    output_file = SPECT_PATH / f\"{file_stem}.png\"\n",
    "    mp3_to_melspec(file, output_file)"
   ],
   "id": "c5ccfd4cc3b123be",
   "outputs": [],
   "execution_count": 86
  },
  {
   "metadata": {
    "ExecuteTime": {
     "end_time": "2025-04-30T15:32:49.264551Z",
     "start_time": "2025-04-30T15:32:49.201116Z"
    }
   },
   "cell_type": "code",
   "source": [
    "df = pd.read_csv('project_data/tracks.csv')\n",
    "\n",
    "df['filename'] = df['track_id'].apply(lambda x: f'{x:06d}.png')\n",
    "\n",
    "print(df[['filename', 'genre']].head())"
   ],
   "id": "7c6c88eb673c51e9",
   "outputs": [
    {
     "name": "stdout",
     "output_type": "stream",
     "text": [
      "     filename    genre\n",
      "0  000002.png  Hip-Hop\n",
      "1  000005.png  Hip-Hop\n",
      "2  000010.png      Pop\n",
      "3  000140.png     Folk\n",
      "4  000141.png     Folk\n"
     ]
    }
   ],
   "execution_count": 87
  },
  {
   "metadata": {},
   "cell_type": "code",
   "outputs": [],
   "execution_count": null,
   "source": "",
   "id": "721ddc0ab1509532"
  }
 ],
 "metadata": {
  "kernelspec": {
   "display_name": "Python 3",
   "language": "python",
   "name": "python3"
  },
  "language_info": {
   "codemirror_mode": {
    "name": "ipython",
    "version": 2
   },
   "file_extension": ".py",
   "mimetype": "text/x-python",
   "name": "python",
   "nbconvert_exporter": "python",
   "pygments_lexer": "ipython2",
   "version": "2.7.6"
  }
 },
 "nbformat": 4,
 "nbformat_minor": 5
}
