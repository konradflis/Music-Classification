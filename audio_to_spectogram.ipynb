{
 "cells": [
  {
   "cell_type": "markdown",
   "id": "747375ed53d58c41",
   "metadata": {},
   "source": [
    "## Test Mel Spectogram"
   ]
  },
  {
   "cell_type": "markdown",
   "id": "b51b3df215bd2da1",
   "metadata": {},
   "source": [
    "### Import library"
   ]
  },
  {
   "cell_type": "code",
   "execution_count": null,
   "id": "b6150aedc04a866e",
   "metadata": {},
   "outputs": [],
   "source": [
    "import librosa\n",
    "import librosa.display as display\n",
    "import numpy as np\n",
    "import pandas as pd\n",
    "import matplotlib.pyplot as plt\n",
    "from pathlib import Path\n",
    "import cv2\n",
    "import os\n",
    "from mutagen.mp3 import MP3"
   ]
  },
  {
   "cell_type": "markdown",
   "id": "57fdbbf1c131d168",
   "metadata": {},
   "source": [
    "### Spectogram"
   ]
  },
  {
   "cell_type": "code",
   "execution_count": null,
   "id": "a816c74cada4988d",
   "metadata": {},
   "outputs": [],
   "source": [
    "def mp3_to_melspec(mp3_file, output_path, *, sr=22050, duration=30, n_fft=2048, n_mels=244, hop_length=2713):\n",
    "\n",
    "    y, sr = librosa.load(mp3_file, sr=sr, duration=duration)\n",
    "\n",
    "    # calculete mel-spectogram\n",
    "    mel_spec = librosa.feature.melspectrogram(\n",
    "    y=y, sr=sr, n_fft=n_fft, hop_length=hop_length, n_mels=n_mels\n",
    "    )\n",
    "    mel_spec_db = librosa.power_to_db(mel_spec, ref=np.max)\n",
    "    normalized = (mel_spec_db - np.min(mel_spec_db)) / (np.max(mel_spec_db)-np.min(mel_spec_db))  #\n",
    "\n",
    "    os.makedirs(os.path.dirname(output_path), exist_ok=True)\n",
    "    display.specshow(normalized, sr=sr, hop_length=hop_length)\n",
    "    plt.savefig(str(output_path), bbox_inches='tight', pad_inches=0)\n",
    "    plt.close()"
   ]
  },
  {
   "cell_type": "code",
   "execution_count": null,
   "id": "51548e91eeeb8aa6",
   "metadata": {},
   "outputs": [],
   "source": [
    "AUDIO_PATH = Path.cwd() / 'project_data' / 'audio_data'\n",
    "SPECT_PATH = Path.cwd() / 'project_data' / 'spectrogram_data'"
   ]
  },
  {
   "cell_type": "code",
   "execution_count": null,
   "id": "89e8c71b328d5a89",
   "metadata": {},
   "outputs": [],
   "source": [
    "def is_longer_than_25_seconds(file_path):\n",
    "    for mp3_file in sorted(file_path.rglob(\"*.mp3\")):\n",
    "        try:\n",
    "            audio = MP3(mp3_file)\n",
    "            duration = audio.info.length  # długość w sekundach (float)\n",
    "            if duration < 25:\n",
    "                print(mp3_file)\n",
    "        except Exception as e:\n",
    "            print(f\"Błąd podczas przetwarzania pliku: {e}\")\n",
    "            return False\n",
    "\n",
    "\n",
    "is_longer_than_25_seconds(AUDIO_PATH)"
   ]
  },
  {
   "cell_type": "code",
   "execution_count": null,
   "id": "69ba0c3da9f4f4a4",
   "metadata": {},
   "outputs": [],
   "source": [
    "start_from = \"000002.mp3\"\n",
    "skip = True\n",
    "for mp3_file in sorted(AUDIO_PATH.rglob(\"*.mp3\")):\n",
    "    if skip:\n",
    "        if mp3_file.name == start_from:\n",
    "            skip = False\n",
    "        else:\n",
    "            continue\n",
    "    try:\n",
    "        file_stem = mp3_file.stem\n",
    "        output_file = SPECT_PATH / f\"{file_stem}.png\"\n",
    "        mp3_to_melspec(mp3_file, output_file)\n",
    "    except Exception as e:\n",
    "        print(f\"Błąd przy pliku {mp3_file}: {e}\")\n",
    "\n"
   ]
  },
  {
   "cell_type": "code",
   "execution_count": null,
   "id": "7c6c88eb673c51e9",
   "metadata": {},
   "outputs": [],
   "source": [
    "df = pd.read_csv('project_data/tracks.csv')\n",
    "\n",
    "df['filename'] = df['track_id'].apply(lambda x: f'{x:06d}.png')\n",
    "new_data = df[['filename', 'genre']]\n",
    "new_data.to_csv('dataset/spectrogram.csv', index=False)"
   ]
  },
  {
   "cell_type": "code",
   "execution_count": null,
   "id": "721ddc0ab1509532",
   "metadata": {},
   "outputs": [],
   "source": []
  }
 ],
 "metadata": {
  "kernelspec": {
   "display_name": "Python 3",
   "language": "python",
   "name": "python3"
  },
  "language_info": {
   "codemirror_mode": {
    "name": "ipython",
    "version": 2
   },
   "file_extension": ".py",
   "mimetype": "text/x-python",
   "name": "python",
   "nbconvert_exporter": "python",
   "pygments_lexer": "ipython2",
   "version": "2.7.6"
  }
 },
 "nbformat": 4,
 "nbformat_minor": 5
}
