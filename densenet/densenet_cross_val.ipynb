{
 "cells": [
  {
   "cell_type": "markdown",
   "id": "68ea487a",
   "metadata": {},
   "source": [
    "### Model preparation"
   ]
  },
  {
   "cell_type": "code",
   "execution_count": 49,
   "id": "21716fa7",
   "metadata": {
    "ExecuteTime": {
     "end_time": "2025-05-20T10:04:59.432998Z",
     "start_time": "2025-05-20T10:04:47.973710Z"
    }
   },
   "outputs": [
    {
     "data": {
      "text/plain": [
       "'\\nmodel.classifier = nn.Sequential(\\n    nn.Linear(model.classifier.in_features, 512),\\n    nn.ReLU(),\\n    nn.Dropout(p=0.3),   # Dropout layer\\n    nn.Linear(512, num_classes)\\n)\\n'"
      ]
     },
     "execution_count": 49,
     "metadata": {},
     "output_type": "execute_result"
    }
   ],
   "source": [
    "import torch\n",
    "import torch.nn as nn\n",
    "from PIL import Image\n",
    "import os\n",
    "import pandas as pd\n",
    "import numpy as np\n",
    "import datetime\n",
    "import matplotlib.pyplot as plt\n",
    "from sklearn.metrics import accuracy_score, precision_score, f1_score, confusion_matrix\n",
    "from torchvision.models import densenet121, densenet169\n",
    "from torch.utils.data import Dataset\n",
    "from torchvision import transforms\n",
    "\n",
    "num_classes = 10\n",
    "\n",
    "model = densenet121()\n",
    "\n",
    "model.classifier = nn.Linear(model.classifier.in_features, num_classes)\n",
    "\n",
    "'''\n",
    "model.classifier = nn.Sequential(\n",
    "    nn.Linear(model.classifier.in_features, 512),\n",
    "    nn.ReLU(),\n",
    "    nn.Dropout(p=0.3),   # Dropout layer\n",
    "    nn.Linear(512, num_classes)\n",
    ")\n",
    "'''\n"
   ]
  },
  {
   "cell_type": "markdown",
   "id": "ae170c38",
   "metadata": {},
   "source": [
    "### Dataset preparation"
   ]
  },
  {
   "cell_type": "code",
   "execution_count": 50,
   "id": "128fb2c3",
   "metadata": {
    "ExecuteTime": {
     "end_time": "2025-05-20T10:05:14.414101Z",
     "start_time": "2025-05-20T10:05:14.400970Z"
    }
   },
   "outputs": [],
   "source": [
    "import os\n",
    "import pandas as pd\n",
    "from PIL import Image\n",
    "from torch.utils.data import Dataset\n",
    "\n",
    "class SpectrogramDataset(Dataset):\n",
    "    def __init__(self, dataframe=None, csv_file=None, root_dir=None, transform=None, label_map=None):\n",
    "        if dataframe is not None:\n",
    "            self.annotations = dataframe.reset_index(drop=True)\n",
    "        elif csv_file is not None:\n",
    "            self.annotations = pd.read_csv(csv_file)\n",
    "        else:\n",
    "            raise ValueError(\"This should be either dataframe or csv!\")\n",
    "\n",
    "        self.root_dir = root_dir\n",
    "        self.transform = transform\n",
    "        self.label_map = label_map or self._build_label_map()\n",
    "\n",
    "    def _build_label_map(self):\n",
    "        labels = self.annotations['genre'].unique()\n",
    "        return {label: idx for idx, label in enumerate(sorted(labels))}\n",
    "\n",
    "    def __len__(self):\n",
    "        return len(self.annotations)\n",
    "\n",
    "    def __getitem__(self, idx):\n",
    "        filename = self.annotations.iloc[idx, 0]\n",
    "        subfolder = filename.split('.')[0]\n",
    "        filename = filename[:-4] + '.png'\n",
    "        img_name = os.path.join(self.root_dir, subfolder, filename)\n",
    "\n",
    "        image = Image.open(img_name).convert('RGB')\n",
    "        label_str = self.annotations.iloc[idx, 1]\n",
    "        label = self.label_map[label_str]\n",
    "\n",
    "        if self.transform:\n",
    "            image = self.transform(image)\n",
    "\n",
    "        return image, label\n"
   ]
  },
  {
   "cell_type": "code",
   "execution_count": 51,
   "id": "e8197620",
   "metadata": {},
   "outputs": [
    {
     "data": {
      "text/plain": [
       "'\\nfrom sklearn.model_selection import train_test_split\\ncsv_file = \\'project_data/tracks.csv\\'\\ndf = pd.read_csv(csv_file)\\ndf = df.sample(frac=1).reset_index(drop=True)\\ntrain_df, temp_df = train_test_split(df, test_size=0.3, stratify=df[\\'genre\\'])\\nvalid_df, test_df = train_test_split(temp_df, test_size=0.5, stratify=temp_df[\\'genre\\'])\\n\\ntrain_df.to_csv(\\'densenet_dataset_split/train.csv\\', index=False)\\nvalid_df.to_csv(\\'densenet_dataset_split/valid.csv\\', index=False)\\ntest_df.to_csv(\\'densenet_dataset_split/test.csv\\', index=False)\\n\\nprint(\"Data has been split into train.csv, valid.csv, and test.csv with balanced genres.\")\\n'"
      ]
     },
     "execution_count": 51,
     "metadata": {},
     "output_type": "execute_result"
    }
   ],
   "source": [
    "'''\n",
    "from sklearn.model_selection import train_test_split\n",
    "csv_file = 'project_data/tracks.csv'\n",
    "df = pd.read_csv(csv_file)\n",
    "df = df.sample(frac=1).reset_index(drop=True)\n",
    "train_df, temp_df = train_test_split(df, test_size=0.3, stratify=df['genre'])\n",
    "valid_df, test_df = train_test_split(temp_df, test_size=0.5, stratify=temp_df['genre'])\n",
    "\n",
    "train_df.to_csv('densenet_dataset_split/train.csv', index=False)\n",
    "valid_df.to_csv('densenet_dataset_split/valid.csv', index=False)\n",
    "test_df.to_csv('densenet_dataset_split/test.csv', index=False)\n",
    "\n",
    "print(\"Data has been split into train.csv, valid.csv, and test.csv with balanced genres.\")\n",
    "'''"
   ]
  },
  {
   "cell_type": "code",
   "execution_count": 52,
   "id": "0c385385",
   "metadata": {
    "ExecuteTime": {
     "end_time": "2025-05-20T10:05:17.904525Z",
     "start_time": "2025-05-20T10:05:17.852999Z"
    }
   },
   "outputs": [],
   "source": [
    "transform = transforms.Compose([\n",
    "    transforms.Resize((224, 224)),\n",
    "    transforms.ToTensor(),\n",
    "])\n",
    "\n",
    "train_dataset = SpectrogramDataset(\n",
    "    csv_file='densenet_dataset_split/train.csv',\n",
    "    root_dir='../project_data/spectrograms',\n",
    "    transform=transform\n",
    ")\n",
    "\n",
    "val_dataset = SpectrogramDataset(\n",
    "    csv_file='densenet_dataset_split/valid.csv',\n",
    "    root_dir='../project_data/spectrograms',\n",
    "    transform=transform\n",
    ")\n",
    "\n",
    "test_dataset = SpectrogramDataset(\n",
    "    csv_file='densenet_dataset_split/test.csv',\n",
    "    root_dir='../project_data/spectrograms',\n",
    "    transform=transform\n",
    ")\n",
    "\n",
    "cross_val_dataset = SpectrogramDataset(\n",
    "    csv_file='densenet_dataset_split/cross_val.csv',\n",
    "    root_dir='../project_data/spectrograms',\n",
    "    transform=transform\n",
    ")"
   ]
  },
  {
   "cell_type": "code",
   "execution_count": 53,
   "id": "d3e9ef6a",
   "metadata": {
    "ExecuteTime": {
     "end_time": "2025-05-20T10:05:19.784163Z",
     "start_time": "2025-05-20T10:05:19.705213Z"
    }
   },
   "outputs": [
    {
     "name": "stdout",
     "output_type": "stream",
     "text": [
      "torch.Size([3, 224, 224])\n",
      "6\n",
      "{'blues': 0, 'classical': 1, 'country': 2, 'disco': 3, 'hiphop': 4, 'jazz': 5, 'metal': 6, 'pop': 7, 'reggae': 8, 'rock': 9}\n"
     ]
    }
   ],
   "source": [
    "#validation\n",
    "image, label = train_dataset[1]\n",
    "print(image.shape)\n",
    "print(label)\n",
    "print(train_dataset.label_map)\n"
   ]
  },
  {
   "cell_type": "code",
   "execution_count": 54,
   "id": "18163dff",
   "metadata": {
    "ExecuteTime": {
     "end_time": "2025-05-20T10:05:22.331920Z",
     "start_time": "2025-05-20T10:05:21.193489Z"
    }
   },
   "outputs": [
    {
     "name": "stdout",
     "output_type": "stream",
     "text": [
      "2.5.1+cu121\n",
      "12.1\n",
      "90100\n",
      "CUDA is available. Using GPU: NVIDIA GeForce GTX 1650\n"
     ]
    }
   ],
   "source": [
    "print(torch.__version__)\n",
    "print(torch.version.cuda)\n",
    "print(torch.backends.cudnn.version())\n",
    "\n",
    "if torch.cuda.is_available():\n",
    "    print(f\"CUDA is available. Using GPU: {torch.cuda.get_device_name(0)}\")\n",
    "else: \n",
    "    print(\"CUDA is not available. Using CPU.\")"
   ]
  },
  {
   "cell_type": "markdown",
   "id": "17149266",
   "metadata": {},
   "source": [
    "### Model training"
   ]
  },
  {
   "cell_type": "code",
   "execution_count": 55,
   "id": "7c1af9c4",
   "metadata": {},
   "outputs": [],
   "source": [
    "def get_filename_with_date(prefix=\"model\", extension=\"pth\"):\n",
    "    now = datetime.datetime.now()\n",
    "    date_str = now.strftime(\"%d_%b_%H_%M\")\n",
    "    return f\"{prefix}_{date_str}.{extension}\"\n",
    "\n",
    "\n",
    "class EarlyStopping:\n",
    "    def __init__(self, patience=5, delta=0.0):\n",
    "        self.patience = patience\n",
    "        self.delta = delta\n",
    "        self.counter = 0\n",
    "        self.best_loss = None\n",
    "        self.early_stop = False\n",
    "        self.best_model_state = None\n",
    "\n",
    "    def __call__(self, val_loss, model):\n",
    "        if self.best_loss is None:\n",
    "            self.best_loss = val_loss\n",
    "        elif val_loss > self.best_loss - self.delta:\n",
    "            self.counter += 1\n",
    "            if self.counter >= self.patience:\n",
    "                self.early_stop = True\n",
    "        else:\n",
    "            self.best_loss = val_loss\n",
    "            self.counter = 0\n",
    "            self.best_model_state = model.state_dict()"
   ]
  },
  {
   "cell_type": "code",
   "execution_count": 56,
   "id": "e8310113",
   "metadata": {},
   "outputs": [
    {
     "data": {
      "text/plain": [
       "\"\\noptimizer = optimizer_to(optimizer, device)\\ncheckpoint = torch.load('model_densenet169_13_May_19_22.pth', map_location=device)\\nmodel.load_state_dict(checkpoint['model_state_dict'])\\noptimizer.load_state_dict(checkpoint['optimizer_state_dict'])\\nstart_epoch = checkpoint['epoch']\\n\\nnum_epochs = 25\\ntrain_losses = checkpoint['train_losses']\\nval_losses = checkpoint['val_losses']\\ntrain_accuracies = checkpoint['train_accuracies']\\nval_accuracies = checkpoint['val_accuracies']\\ntrain_precisions = checkpoint['train_precisions: ']\\nval_precisions = checkpoint['val_precisions']\\n\""
      ]
     },
     "execution_count": 56,
     "metadata": {},
     "output_type": "execute_result"
    }
   ],
   "source": [
    "import torch.optim as optim\n",
    "from torch.utils.data import DataLoader\n",
    "\n",
    "def optimizer_to(optimizer, device):\n",
    "    for param_group in optimizer.param_groups:\n",
    "        for param in param_group['params']:\n",
    "            param.data = param.data.to(device)\n",
    "    return optimizer\n",
    "\n",
    "train_loader = DataLoader(train_dataset, batch_size=32, shuffle=True, pin_memory=True)\n",
    "val_loader = DataLoader(val_dataset, batch_size=32, shuffle=False, pin_memory=True)\n",
    "test_loader = DataLoader(test_dataset, batch_size=32, shuffle=False, pin_memory=True)\n",
    "\n",
    "device = torch.device(\"cuda\" if torch.cuda.is_available() else \"cpu\")\n",
    "\n",
    "criterion = nn.CrossEntropyLoss()\n",
    "optimizer = optim.Adam(model.parameters(), lr=1e-4)\n",
    "\n",
    "\n",
    "start_epoch = 0\n",
    "\n",
    "\n",
    "train_losses = []\n",
    "val_losses = []\n",
    "train_accuracies = []\n",
    "val_accuracies = []\n",
    "train_precisions = []\n",
    "val_precisions = []\n",
    "\n",
    "\n",
    "#BELOW: loading existing checkpoint model\n",
    "'''\n",
    "optimizer = optimizer_to(optimizer, device)\n",
    "checkpoint = torch.load('model_densenet169_13_May_19_22.pth', map_location=device)\n",
    "model.load_state_dict(checkpoint['model_state_dict'])\n",
    "optimizer.load_state_dict(checkpoint['optimizer_state_dict'])\n",
    "start_epoch = checkpoint['epoch']\n",
    "\n",
    "num_epochs = 25\n",
    "train_losses = checkpoint['train_losses']\n",
    "val_losses = checkpoint['val_losses']\n",
    "train_accuracies = checkpoint['train_accuracies']\n",
    "val_accuracies = checkpoint['val_accuracies']\n",
    "train_precisions = checkpoint['train_precisions: ']\n",
    "val_precisions = checkpoint['val_precisions']\n",
    "'''\n"
   ]
  },
  {
   "cell_type": "code",
   "execution_count": 57,
   "id": "0cd41517",
   "metadata": {
    "ExecuteTime": {
     "end_time": "2025-05-20T14:41:57.035036Z",
     "start_time": "2025-05-20T14:41:50.812040Z"
    }
   },
   "outputs": [
    {
     "name": "stdout",
     "output_type": "stream",
     "text": [
      "\n",
      "🔁 Fold 1/2\n",
      "Epoch 1 | Train Loss: 2.0680 | Train Acc: 0.2682 | Train Prec: 0.3197\n",
      "Epoch 1 | Val Loss: 2.3069 | Val Acc: 0.1529 | Val Prec: 0.0430\n",
      "Epoch 2 | Train Loss: 1.6692 | Train Acc: 0.5012 | Train Prec: 0.5561\n",
      "Epoch 2 | Val Loss: 2.3831 | Val Acc: 0.1694 | Val Prec: 0.1523\n",
      "Epoch 3 | Train Loss: 1.4393 | Train Acc: 0.5835 | Train Prec: 0.5870\n",
      "Epoch 3 | Val Loss: 1.7602 | Val Acc: 0.3600 | Val Prec: 0.3305\n",
      "Fold 1 finished. Metrics: {'train_loss': [2.0679660865238736, 1.6692033920969283, 1.4393013204847063], 'train_accuracy': [0.26823529411764707, 0.5011764705882353, 0.5835294117647059], 'train_precision': [0.3197177899952426, 0.5560968005395647, 0.5870381741995949], 'val_loss': [2.306879162788391, 2.383091722215925, 1.7602316907473974], 'val_accuracy': [0.15294117647058825, 0.16941176470588235, 0.36], 'val_precision': [0.0430033185840708, 0.1523386898966099, 0.33052750022963445]}\n",
      "\n",
      "🔁 Fold 2/2\n",
      "Epoch 1 | Train Loss: 1.4083 | Train Acc: 0.5388 | Train Prec: 0.5633\n",
      "Epoch 1 | Val Loss: 1.2616 | Val Acc: 0.5718 | Val Prec: 0.6202\n",
      "Epoch 2 | Train Loss: 1.2318 | Train Acc: 0.6400 | Train Prec: 0.6332\n",
      "Epoch 2 | Val Loss: 1.2100 | Val Acc: 0.5576 | Val Prec: 0.5813\n",
      "Epoch 3 | Train Loss: 1.0548 | Train Acc: 0.6776 | Train Prec: 0.6791\n",
      "Epoch 3 | Val Loss: 1.0336 | Val Acc: 0.6424 | Val Prec: 0.6390\n",
      "Fold 2 finished. Metrics: {'train_loss': [1.4083360433578491, 1.231820319380079, 1.054754959685462], 'train_accuracy': [0.5388235294117647, 0.64, 0.6776470588235294], 'train_precision': [0.5633270386463664, 0.6331960381493786, 0.6790626813651001], 'val_loss': [1.2615559654576438, 1.2100469086851393, 1.033605647938592], 'val_accuracy': [0.571764705882353, 0.5576470588235294, 0.6423529411764706], 'val_precision': [0.6201882030362048, 0.5812663282630539, 0.6389603114889708]}\n",
      "Cross-validation average metrics:\n",
      "train_loss: 1.2470\n",
      "train_accuracy: 0.6306\n",
      "train_precision: 0.6331\n",
      "val_loss: 1.3969\n",
      "val_accuracy: 0.5012\n",
      "val_precision: 0.4847\n"
     ]
    }
   ],
   "source": [
    "def train_model(model, train_loader, val_loader, criterion, optimizer, num_epochs, device, patience=5):\n",
    "\n",
    "    model = model.to(device, non_blocking=True)\n",
    "    early_stopping = EarlyStopping(patience=patience, delta=0.001)\n",
    "\n",
    "    train_losses, val_losses = [], []\n",
    "    train_accuracies, val_accuracies = [], []\n",
    "    train_precisions, val_precisions = [], []\n",
    "\n",
    "    best_model_state = None\n",
    "    best_val_loss = float('inf')\n",
    "\n",
    "    for epoch in range(num_epochs):\n",
    "        # --- TRAIN ---\n",
    "        model.train()\n",
    "        total_train_loss, correct_train, total_train = 0, 0, 0\n",
    "        y_train_true, y_train_pred = [], []\n",
    "\n",
    "        for images, labels in train_loader:\n",
    "            images, labels = images.to(device, non_blocking=True), labels.to(device, non_blocking=True)\n",
    "\n",
    "            optimizer.zero_grad()\n",
    "            outputs = model(images)\n",
    "            loss = criterion(outputs, labels)\n",
    "            loss.backward()\n",
    "            optimizer.step()\n",
    "\n",
    "            total_train_loss += loss.item()\n",
    "            _, predicted = torch.max(outputs, 1)\n",
    "            correct_train += (predicted == labels).sum().item()\n",
    "            total_train += labels.size(0)\n",
    "\n",
    "            y_train_true.extend(labels.cpu().numpy())\n",
    "            y_train_pred.extend(predicted.cpu().numpy())\n",
    "\n",
    "        avg_train_loss = total_train_loss / len(train_loader)\n",
    "        train_accuracy = correct_train / total_train\n",
    "        train_precision = precision_score(y_train_true, y_train_pred, average='macro', zero_division=0)\n",
    "\n",
    "        train_losses.append(avg_train_loss)\n",
    "        train_accuracies.append(train_accuracy)\n",
    "        train_precisions.append(train_precision)\n",
    "\n",
    "        # --- VALIDATION ---\n",
    "        model.eval()\n",
    "        total_val_loss, correct_val, total_val = 0, 0, 0\n",
    "        y_val_true, y_val_pred = [], []\n",
    "\n",
    "        with torch.no_grad():\n",
    "            for images, labels in val_loader:\n",
    "                images, labels = images.to(device, non_blocking=True), labels.to(device, non_blocking=True)\n",
    "                outputs = model(images)\n",
    "                total_val_loss += criterion(outputs, labels).item()\n",
    "\n",
    "                _, predicted = torch.max(outputs, 1)\n",
    "                correct_val += (predicted == labels).sum().item()\n",
    "                total_val += labels.size(0)\n",
    "\n",
    "                y_val_true.extend(labels.cpu().numpy())\n",
    "                y_val_pred.extend(predicted.cpu().numpy())\n",
    "\n",
    "        avg_val_loss = total_val_loss / len(val_loader)\n",
    "        val_accuracy = correct_val / total_val\n",
    "        val_precision = precision_score(y_val_true, y_val_pred, average='macro', zero_division=0)\n",
    "\n",
    "        val_losses.append(avg_val_loss)\n",
    "        val_accuracies.append(val_accuracy)\n",
    "        val_precisions.append(val_precision)\n",
    "\n",
    "        print(f\"Epoch {epoch+1} | Train Loss: {avg_train_loss:.4f} | Train Acc: {train_accuracy:.4f} | Train Prec: {train_precision:.4f}\")\n",
    "        print(f\"Epoch {epoch+1} | Val Loss: {avg_val_loss:.4f} | Val Acc: {val_accuracy:.4f} | Val Prec: {val_precision:.4f}\")\n",
    "\n",
    "        # Early stopping\n",
    "        ''' \n",
    "        early_stopping(avg_val_loss, model)\n",
    "        if avg_val_loss < best_val_loss:\n",
    "            best_val_loss = avg_val_loss\n",
    "            best_model_state = model.state_dict()\n",
    "\n",
    "        if early_stopping.early_stop:\n",
    "            print(f\"⏹️ Early stopping at epoch {epoch+1}\")\n",
    "            break\n",
    "            \n",
    "        # Przywróć najlepszy model\n",
    "        if best_model_state is not None:\n",
    "            model.load_state_dict(best_model_state)\n",
    "        '''\n",
    "\n",
    "\n",
    "    metrics = {\n",
    "        'train_loss': train_losses,\n",
    "        'train_accuracy': train_accuracies,\n",
    "        'train_precision': train_precisions,\n",
    "        'val_loss': val_losses,\n",
    "        'val_accuracy': val_accuracies,\n",
    "        'val_precision': val_precisions\n",
    "    }\n",
    "\n",
    "    final_metrics = {\n",
    "        'train_loss': train_losses[-1],\n",
    "        'train_accuracy': train_accuracies[-1],\n",
    "        'train_precision': train_precisions[-1],\n",
    "        'val_loss': val_losses[-1],\n",
    "        'val_accuracy': val_accuracies[-1],\n",
    "        'val_precision': val_precisions[-1]\n",
    "    }\n",
    "\n",
    "    return model, metrics, final_metrics\n",
    "\n",
    "from copy import deepcopy\n",
    "\n",
    "def run_cross_validation(model_fn, df, root_dir, transform, num_classes,\n",
    "                         k=5, batch_size=32, epochs=10, lr=1e-4, device='cuda', patience=5):\n",
    "    from sklearn.model_selection import StratifiedKFold\n",
    "\n",
    "    X = df['file_name'].values\n",
    "    y = df['genre'].values\n",
    "    skf = StratifiedKFold(n_splits=k, shuffle=True, random_state=42)\n",
    "\n",
    "    all_fold_metrics = []\n",
    "    train_losses = []\n",
    "    train_accuracies =[]\n",
    "    train_precisions = []\n",
    "    val_losses = []\n",
    "    val_accuracies = []\n",
    "    val_precisions = []\n",
    "\n",
    "    for fold, (train_idx, val_idx) in enumerate(skf.split(X, y)):\n",
    "        print(f\"\\n🔁 Fold {fold+1}/{k}\")\n",
    "\n",
    "        # Split\n",
    "        train_df = df.iloc[train_idx].reset_index(drop=True)\n",
    "        val_df = df.iloc[val_idx].reset_index(drop=True)\n",
    "\n",
    "        # Datasets\n",
    "        train_dataset = SpectrogramDataset(dataframe=train_df, root_dir=root_dir, transform=transform)\n",
    "        val_dataset = SpectrogramDataset(dataframe=val_df, root_dir=root_dir, transform=transform)\n",
    "\n",
    "        train_loader = DataLoader(train_dataset, batch_size=batch_size, shuffle=True)\n",
    "        val_loader = DataLoader(val_dataset, batch_size=batch_size, shuffle=False)\n",
    "\n",
    "        # Model\n",
    "        model = model_fn\n",
    "        criterion = nn.CrossEntropyLoss()\n",
    "        optimizer = optim.Adam(model.parameters(), lr=lr)\n",
    "\n",
    "        trained_model, metrics, final_metrics = train_model(model, train_loader, val_loader, criterion, optimizer,\n",
    "                                             num_epochs=epochs, device=device, patience=patience)\n",
    "\n",
    "        print(f\"Fold {fold+1} finished. Metrics: {metrics}\")\n",
    "        all_fold_metrics.append(final_metrics)\n",
    "\n",
    "        train_losses.append(deepcopy(metrics['train_loss']))\n",
    "        train_accuracies.append(deepcopy(metrics['train_accuracy']))\n",
    "        train_precisions.append(deepcopy(metrics['train_precision']))\n",
    "        val_losses.append(deepcopy(metrics['val_loss']))\n",
    "        val_accuracies.append(deepcopy(metrics['val_accuracy']))\n",
    "        val_precisions.append(deepcopy(metrics['val_precision']))\n",
    "\n",
    "    metrics_all = {\n",
    "    'train_loss': train_losses,\n",
    "    'train_accuracy': train_accuracies,\n",
    "    'train_precision': train_precisions,\n",
    "    'val_loss': val_losses,\n",
    "    'val_accuracy': val_accuracies,\n",
    "    'val_precision': val_precisions\n",
    "    }\n",
    "\n",
    "    avg_metrics = {\n",
    "        key: np.mean([fold[key] for fold in all_fold_metrics])\n",
    "        for key in all_fold_metrics[0]\n",
    "    }\n",
    "\n",
    "    print(\"Cross-validation average metrics:\")\n",
    "    for k, v in avg_metrics.items():\n",
    "        print(f\"{k}: {v:.4f}\")\n",
    "\n",
    "    return all_fold_metrics, avg_metrics, metrics_all\n",
    "\n",
    "\n",
    "num_epochs = 3\n",
    "metrics, avg, all_metrics = run_cross_validation(\n",
    "    model_fn=model,\n",
    "    df=pd.read_csv('densenet_dataset_split/cross_val.csv'),\n",
    "    root_dir='../project_data/spectrograms',\n",
    "    transform=transform,\n",
    "    num_classes=10,\n",
    "    k=2,\n",
    "    batch_size=32,\n",
    "    epochs=num_epochs,\n",
    "    lr=1e-4,\n",
    "    device='cuda',\n",
    "    patience=5\n",
    ")\n"
   ]
  },
  {
   "cell_type": "code",
   "execution_count": 58,
   "id": "5fae844d",
   "metadata": {},
   "outputs": [],
   "source": [
    "y_true = []\n",
    "y_pred = []\n",
    "\n",
    "with torch.no_grad():\n",
    "    for images, labels in test_loader:\n",
    "        images = images.to(device, non_blocking=True)\n",
    "        labels = labels.to(device, non_blocking=True)\n",
    "\n",
    "        outputs = model(images)\n",
    "        _, preds = torch.max(outputs, 1)\n",
    "\n",
    "        y_true.extend(labels.cpu().numpy())\n",
    "        y_pred.extend(preds.cpu().numpy())\n"
   ]
  },
  {
   "cell_type": "code",
   "execution_count": 59,
   "id": "ad21dc55",
   "metadata": {},
   "outputs": [
    {
     "name": "stdout",
     "output_type": "stream",
     "text": [
      "Accuracy: 0.7267\n",
      "Precision (macro): 0.7310\n",
      "F1 Score (macro): 0.7184\n",
      "Confusion Matrix:\n"
     ]
    },
    {
     "data": {
      "image/png": "[encoded data removed]",
      "text/plain": [
       "<Figure size 800x600 with 2 Axes>"
      ]
     },
     "metadata": {},
     "output_type": "display_data"
    }
   ],
   "source": [
    "import matplotlib.pyplot as plt\n",
    "test_accuracy = accuracy_score(y_true, y_pred)\n",
    "test_precision = precision_score(y_true, y_pred, average='macro')\n",
    "test_f1 = f1_score(y_true, y_pred, average='macro')\n",
    "conf_matrix = confusion_matrix(y_true, y_pred)\n",
    "\n",
    "print(f\"Accuracy: {test_accuracy:.4f}\")\n",
    "print(f\"Precision (macro): {test_precision:.4f}\")\n",
    "print(f\"F1 Score (macro): {test_f1:.4f}\")\n",
    "print(\"Confusion Matrix:\")\n",
    "\n",
    "class_names = test_dataset.label_map.keys()\n",
    "\n",
    "fig, ax = plt.subplots(figsize=(8, 6))\n",
    "cax = ax.matshow(conf_matrix, cmap='Blues')\n",
    "fig.colorbar(cax)\n",
    "# Dodaj etykiety osi\n",
    "ax.set_xticks(np.arange(len(class_names)))\n",
    "ax.set_yticks(np.arange(len(class_names)))\n",
    "ax.set_xticklabels(class_names)\n",
    "ax.set_yticklabels(class_names)\n",
    "\n",
    "# Dodaj liczby do komórek\n",
    "for i in range(len(conf_matrix)):\n",
    "    for j in range(len(conf_matrix[i])):\n",
    "        ax.text(j, i, str(conf_matrix[i][j]),\n",
    "                va='center', ha='center', color='black', fontsize=12)\n",
    "\n",
    "# Oznaczenia osi\n",
    "plt.xlabel('Prediction')\n",
    "plt.ylabel('True genre')\n",
    "plt.title('Confusion matrix')\n",
    "plt.tight_layout()\n",
    "plt.show()\n"
   ]
  },
  {
   "cell_type": "code",
   "execution_count": 60,
   "id": "b46297ca",
   "metadata": {},
   "outputs": [
    {
     "data": {
      "image/png": "[encoded data removed]",
      "text/plain": [
       "<Figure size 1200x600 with 3 Axes>"
      ]
     },
     "metadata": {},
     "output_type": "display_data"
    }
   ],
   "source": [
    "# Plotting the Loss and Accuracy curves\n",
    "plt.figure(figsize=(12, 6))\n",
    "\n",
    "num_epochs = 3\n",
    "# Losses\n",
    "plt.subplot(1, 3, 1)\n",
    "plt.plot(range(num_epochs), np.mean(all_metrics['train_loss'], axis=0), label='Train Loss')\n",
    "plt.plot(range(num_epochs), np.mean(all_metrics['val_loss'], axis=0), label='Val Loss')\n",
    "plt.title(\"Loss Curve\")\n",
    "plt.xlabel(\"Epochs\")\n",
    "plt.ylabel(\"Loss\")\n",
    "plt.legend()\n",
    "\n",
    "# Accuracy\n",
    "plt.subplot(1, 3, 2)\n",
    "plt.plot(range(num_epochs), np.mean(all_metrics['train_accuracy'], axis=0), label='Train Accuracy')\n",
    "plt.plot(range(num_epochs), np.mean(all_metrics['val_accuracy'], axis=0), label='Val Accuracy')\n",
    "plt.title(\"Accuracy Curve\")\n",
    "plt.xlabel(\"Epochs\")\n",
    "plt.ylabel(\"Accuracy\")\n",
    "plt.legend()\n",
    "\n",
    "# Precision\n",
    "plt.subplot(1, 3, 3)\n",
    "plt.plot(range(num_epochs), np.mean(all_metrics['train_precision'], axis=0), label='Train Precision')\n",
    "plt.plot(range(num_epochs), np.mean(all_metrics['val_precision'], axis=0), label='Val Precision')\n",
    "plt.title(\"Precision Curve\")\n",
    "plt.xlabel(\"Epochs\")\n",
    "plt.ylabel(\"Precision\")\n",
    "plt.legend()\n",
    "\n",
    "plt.title('')\n",
    "plt.show()"
   ]
  },
  {
   "cell_type": "code",
   "execution_count": 61,
   "id": "8bb91450",
   "metadata": {},
   "outputs": [],
   "source": [
    "\n",
    "torch.save({\n",
    "    'epoch': num_epochs,\n",
    "    'model_state_dict': model.state_dict(),\n",
    "    'optimizer_state_dict': optimizer.state_dict(),\n",
    "    'train_accuracies': all_metrics['train_accuracy'],\n",
    "    'val_accuracies': all_metrics['val_accuracy'],\n",
    "    'train_losses': all_metrics['train_loss'],\n",
    "    'val_losses': all_metrics['val_loss'],\n",
    "    'train_precisions: ': all_metrics['train_precision'],\n",
    "    'val_precisions': all_metrics['val_precision'],\n",
    "    'test_accuracy' : test_accuracy,\n",
    "    'test_precision' : test_precision,\n",
    "    'test_f1': test_f1,\n",
    "    'conf_matrix': conf_matrix\n",
    "}, get_filename_with_date())"
   ]
  },
  {
   "cell_type": "code",
   "execution_count": 62,
   "id": "c2570e3c",
   "metadata": {},
   "outputs": [
    {
     "data": {
      "text/plain": [
       "\"\\ntorch.save(model.state_dict(), 'model.pth')\\n\""
      ]
     },
     "execution_count": 62,
     "metadata": {},
     "output_type": "execute_result"
    }
   ],
   "source": [
    "'''\n",
    "torch.save(model.state_dict(), 'model.pth')\n",
    "'''"
   ]
  },
  {
   "cell_type": "code",
   "execution_count": 63,
   "id": "c9ffe4e3",
   "metadata": {},
   "outputs": [
    {
     "data": {
      "text/plain": [
       "\"\\n\\nnum_classes = 10\\nmodel = densenet121()\\nmodel.classifier = nn.Linear(model.classifier.in_features, num_classes)\\nmodel.load_state_dict(torch.load('model.pth'))\\nmodel.eval()\\nsuccess = 0\\nval_size = 1\\nfor elem in val_dataset:\\n    image, label = elem\\n    with torch.no_grad():\\n        output = model(image.unsqueeze(0))\\n    _, predicted = torch.max(output, 1)\\n\\n    if predicted == label:\\n        success += 1\\n    val_size += 1\\nprint(success/val_size)\\n\\n\""
      ]
     },
     "execution_count": 63,
     "metadata": {},
     "output_type": "execute_result"
    }
   ],
   "source": [
    "'''\n",
    "\n",
    "num_classes = 10\n",
    "model = densenet121()\n",
    "model.classifier = nn.Linear(model.classifier.in_features, num_classes)\n",
    "model.load_state_dict(torch.load('model.pth'))\n",
    "model.eval()\n",
    "success = 0\n",
    "val_size = 1\n",
    "for elem in val_dataset:\n",
    "    image, label = elem\n",
    "    with torch.no_grad():\n",
    "        output = model(image.unsqueeze(0))\n",
    "    _, predicted = torch.max(output, 1)\n",
    "\n",
    "    if predicted == label:\n",
    "        success += 1\n",
    "    val_size += 1\n",
    "print(success/val_size)\n",
    "\n",
    "'''"
   ]
  }
 ],
 "metadata": {
  "kernelspec": {
   "display_name": "Python (myenv)",
   "language": "python",
   "name": "myenv"
  },
  "language_info": {
   "codemirror_mode": {
    "name": "ipython",
    "version": 3
   },
   "file_extension": ".py",
   "mimetype": "text/x-python",
   "name": "python",
   "nbconvert_exporter": "python",
   "pygments_lexer": "ipython3",
   "version": "3.12.9"
  }
 },
 "nbformat": 4,
 "nbformat_minor": 5
}
