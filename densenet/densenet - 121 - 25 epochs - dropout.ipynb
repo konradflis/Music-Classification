{
 "cells": [
  {
   "cell_type": "markdown",
   "id": "68ea487a",
   "metadata": {},
   "source": [
    "### Model preparation"
   ]
  },
  {
   "cell_type": "code",
   "execution_count": 1,
   "id": "21716fa7",
   "metadata": {},
   "outputs": [],
   "source": [
    "import torch\n",
    "import torch.nn as nn\n",
    "from PIL import Image\n",
    "import os\n",
    "import pandas as pd\n",
    "import numpy as np\n",
    "import datetime\n",
    "import matplotlib.pyplot as plt\n",
    "from sklearn.metrics import accuracy_score, precision_score, f1_score, confusion_matrix\n",
    "from torchvision.models import densenet121, densenet169\n",
    "from torch.utils.data import Dataset\n",
    "from torchvision import transforms\n",
    "\n",
    "num_classes = 10\n",
    "\n",
    "model = densenet121()\n",
    "\n",
    "#model.classifier = nn.Linear(model.classifier.in_features, num_classes)\n",
    "\n",
    "model.classifier = nn.Sequential(\n",
    "    nn.Linear(model.classifier.in_features, 512),\n",
    "    nn.ReLU(),\n",
    "    nn.Dropout(p=0.3),   # Dropout layer\n",
    "    nn.Linear(512, num_classes)\n",
    ")"
   ]
  },
  {
   "cell_type": "markdown",
   "id": "ae170c38",
   "metadata": {},
   "source": [
    "### Dataset preparation"
   ]
  },
  {
   "cell_type": "code",
   "execution_count": 2,
   "id": "128fb2c3",
   "metadata": {},
   "outputs": [],
   "source": [
    "class SpectrogramDataset(Dataset):\n",
    "    def __init__(self, csv_file, root_dir, transform=None, label_map=None):\n",
    "        self.annotations = pd.read_csv(csv_file)\n",
    "        self.root_dir = root_dir\n",
    "        self.transform = transform\n",
    "        self.label_map = label_map or self._build_label_map()\n",
    "\n",
    "    def _build_label_map(self):\n",
    "        labels = self.annotations['genre'].unique()\n",
    "        return {label: idx for idx, label in enumerate(sorted(labels))}\n",
    "\n",
    "    def __len__(self):\n",
    "        return len(self.annotations)\n",
    "\n",
    "    def __getitem__(self, idx):\n",
    "        filename = self.annotations.iloc[idx, 0]\n",
    "        subfolder = filename.split('.')[0]\n",
    "        filename = filename[:-4] + '.png'\n",
    "        img_name = os.path.join(self.root_dir, subfolder, filename)\n",
    "        image = Image.open(img_name).convert('RGB')\n",
    "        label_str = self.annotations.iloc[idx, 1]\n",
    "        label = self.label_map[label_str]\n",
    "\n",
    "        if self.transform:\n",
    "            image = self.transform(image)\n",
    "\n",
    "        return image, label\n"
   ]
  },
  {
   "cell_type": "code",
   "execution_count": 3,
   "id": "e8197620",
   "metadata": {},
   "outputs": [
    {
     "data": {
      "text/plain": [
       "'\\nfrom sklearn.model_selection import train_test_split\\ncsv_file = \\'project_data/tracks.csv\\'\\ndf = pd.read_csv(csv_file)\\ndf = df.sample(frac=1).reset_index(drop=True)\\ntrain_df, temp_df = train_test_split(df, test_size=0.3, stratify=df[\\'genre\\'])\\nvalid_df, test_df = train_test_split(temp_df, test_size=0.5, stratify=temp_df[\\'genre\\'])\\n\\ntrain_df.to_csv(\\'densenet_dataset_split/train.csv\\', index=False)\\nvalid_df.to_csv(\\'densenet_dataset_split/valid.csv\\', index=False)\\ntest_df.to_csv(\\'densenet_dataset_split/test.csv\\', index=False)\\n\\nprint(\"Data has been split into train.csv, valid.csv, and test.csv with balanced genres.\")\\n'"
      ]
     },
     "execution_count": 3,
     "metadata": {},
     "output_type": "execute_result"
    }
   ],
   "source": [
    "'''\n",
    "from sklearn.model_selection import train_test_split\n",
    "csv_file = 'project_data/tracks.csv'\n",
    "df = pd.read_csv(csv_file)\n",
    "df = df.sample(frac=1).reset_index(drop=True)\n",
    "train_df, temp_df = train_test_split(df, test_size=0.3, stratify=df['genre'])\n",
    "valid_df, test_df = train_test_split(temp_df, test_size=0.5, stratify=temp_df['genre'])\n",
    "\n",
    "train_df.to_csv('densenet_dataset_split/train.csv', index=False)\n",
    "valid_df.to_csv('densenet_dataset_split/valid.csv', index=False)\n",
    "test_df.to_csv('densenet_dataset_split/test.csv', index=False)\n",
    "\n",
    "print(\"Data has been split into train.csv, valid.csv, and test.csv with balanced genres.\")\n",
    "'''"
   ]
  },
  {
   "cell_type": "code",
   "execution_count": 4,
   "id": "0c385385",
   "metadata": {},
   "outputs": [],
   "source": [
    "transform = transforms.Compose([\n",
    "    transforms.Resize((224, 224)),\n",
    "    transforms.ToTensor(),\n",
    "])\n",
    "\n",
    "train_dataset = SpectrogramDataset(\n",
    "    csv_file='densenet_dataset_split/train.csv',\n",
    "    root_dir='../project_data/spectrograms',\n",
    "    transform=transform\n",
    ")\n",
    "\n",
    "val_dataset = SpectrogramDataset(\n",
    "    csv_file='densenet_dataset_split/valid.csv',\n",
    "    root_dir='../project_data/spectrograms',\n",
    "    transform=transform\n",
    ")\n",
    "\n",
    "test_dataset = SpectrogramDataset(\n",
    "    csv_file='densenet_dataset_split/test.csv',\n",
    "    root_dir='../project_data/spectrograms',\n",
    "    transform=transform\n",
    ")"
   ]
  },
  {
   "cell_type": "code",
   "execution_count": 5,
   "id": "d3e9ef6a",
   "metadata": {},
   "outputs": [
    {
     "name": "stdout",
     "output_type": "stream",
     "text": [
      "torch.Size([3, 224, 224])\n",
      "6\n",
      "{'blues': 0, 'classical': 1, 'country': 2, 'disco': 3, 'hiphop': 4, 'jazz': 5, 'metal': 6, 'pop': 7, 'reggae': 8, 'rock': 9}\n"
     ]
    }
   ],
   "source": [
    "#validation\n",
    "image, label = train_dataset[1]\n",
    "print(image.shape)\n",
    "print(label)\n",
    "print(train_dataset.label_map)\n"
   ]
  },
  {
   "cell_type": "code",
   "execution_count": 6,
   "id": "18163dff",
   "metadata": {},
   "outputs": [
    {
     "name": "stdout",
     "output_type": "stream",
     "text": [
      "2.7.0+cpu\n",
      "None\n",
      "None\n",
      "CUDA is not available. Using CPU.\n"
     ]
    }
   ],
   "source": [
    "print(torch.__version__)\n",
    "print(torch.version.cuda)\n",
    "print(torch.backends.cudnn.version())\n",
    "\n",
    "if torch.cuda.is_available():\n",
    "    print(f\"CUDA is available. Using GPU: {torch.cuda.get_device_name(0)}\")\n",
    "else: \n",
    "    print(\"CUDA is not available. Using CPU.\")"
   ]
  },
  {
   "cell_type": "markdown",
   "id": "17149266",
   "metadata": {},
   "source": [
    "### Model training"
   ]
  },
  {
   "cell_type": "code",
   "execution_count": 7,
   "id": "7c1af9c4",
   "metadata": {},
   "outputs": [],
   "source": [
    "def get_filename_with_date(prefix=\"model\", extension=\"pth\"):\n",
    "    now = datetime.datetime.now()\n",
    "    date_str = now.strftime(\"%d_%b_%H_%M\")\n",
    "    return f\"{prefix}_{date_str}.{extension}\"\n",
    "\n",
    "\n",
    "class EarlyStopping:\n",
    "    def __init__(self, patience=5, delta=0.0):\n",
    "        self.patience = patience\n",
    "        self.delta = delta\n",
    "        self.counter = 0\n",
    "        self.best_loss = None\n",
    "        self.early_stop = False\n",
    "        self.best_model_state = None\n",
    "\n",
    "    def __call__(self, val_loss, model):\n",
    "        if self.best_loss is None:\n",
    "            self.best_loss = val_loss\n",
    "        elif val_loss > self.best_loss - self.delta:\n",
    "            self.counter += 1\n",
    "            if self.counter >= self.patience:\n",
    "                self.early_stop = True\n",
    "        else:\n",
    "            self.best_loss = val_loss\n",
    "            self.counter = 0\n",
    "            self.best_model_state = model.state_dict()"
   ]
  },
  {
   "cell_type": "code",
   "execution_count": 8,
   "id": "e8310113",
   "metadata": {},
   "outputs": [
    {
     "data": {
      "text/plain": [
       "\"\\noptimizer = optimizer_to(optimizer, device)\\ncheckpoint = torch.load('model_densenet169_13_May_19_22.pth', map_location=device)\\nmodel.load_state_dict(checkpoint['model_state_dict'])\\noptimizer.load_state_dict(checkpoint['optimizer_state_dict'])\\nstart_epoch = checkpoint['epoch']\\n\\nnum_epochs = 25\\ntrain_losses = checkpoint['train_losses']\\nval_losses = checkpoint['val_losses']\\ntrain_accuracies = checkpoint['train_accuracies']\\nval_accuracies = checkpoint['val_accuracies']\\ntrain_precisions = checkpoint['train_precisions: ']\\nval_precisions = checkpoint['val_precisions']\\n\""
      ]
     },
     "execution_count": 8,
     "metadata": {},
     "output_type": "execute_result"
    }
   ],
   "source": [
    "import torch.optim as optim\n",
    "from torch.utils.data import DataLoader\n",
    "\n",
    "def optimizer_to(optimizer, device):\n",
    "    for param_group in optimizer.param_groups:\n",
    "        for param in param_group['params']:\n",
    "            param.data = param.data.to(device)\n",
    "    return optimizer\n",
    "\n",
    "train_loader = DataLoader(train_dataset, batch_size=32, shuffle=True, pin_memory=True)\n",
    "val_loader = DataLoader(val_dataset, batch_size=32, shuffle=False, pin_memory=True)\n",
    "test_loader = DataLoader(test_dataset, batch_size=32, shuffle=False, pin_memory=True)\n",
    "\n",
    "device = torch.device(\"cuda\" if torch.cuda.is_available() else \"cpu\")\n",
    "\n",
    "criterion = nn.CrossEntropyLoss()\n",
    "optimizer = optim.Adam(model.parameters(), lr=1e-4)\n",
    "\n",
    "\n",
    "start_epoch = 0\n",
    "num_epochs = 25\n",
    "\n",
    "\n",
    "train_losses = []\n",
    "val_losses = []\n",
    "train_accuracies = []\n",
    "val_accuracies = []\n",
    "train_precisions = []\n",
    "val_precisions = []\n",
    "\n",
    "\n",
    "#BELOW: loading existing checkpoint model\n",
    "'''\n",
    "optimizer = optimizer_to(optimizer, device)\n",
    "checkpoint = torch.load('model_densenet169_13_May_19_22.pth', map_location=device)\n",
    "model.load_state_dict(checkpoint['model_state_dict'])\n",
    "optimizer.load_state_dict(checkpoint['optimizer_state_dict'])\n",
    "start_epoch = checkpoint['epoch']\n",
    "\n",
    "num_epochs = 25\n",
    "train_losses = checkpoint['train_losses']\n",
    "val_losses = checkpoint['val_losses']\n",
    "train_accuracies = checkpoint['train_accuracies']\n",
    "val_accuracies = checkpoint['val_accuracies']\n",
    "train_precisions = checkpoint['train_precisions: ']\n",
    "val_precisions = checkpoint['val_precisions']\n",
    "'''\n"
   ]
  },
  {
   "cell_type": "code",
   "execution_count": 9,
   "id": "0cd41517",
   "metadata": {},
   "outputs": [
    {
     "name": "stderr",
     "output_type": "stream",
     "text": [
      "c:\\Users\\julia\\anaconda3\\envs\\MusicClass\\Lib\\site-packages\\torch\\utils\\data\\dataloader.py:665: UserWarning: 'pin_memory' argument is set as true but no accelerator is found, then device pinned memory won't be used.\n",
      "  warnings.warn(warn_msg)\n",
      "c:\\Users\\julia\\anaconda3\\envs\\MusicClass\\Lib\\site-packages\\torch\\utils\\data\\dataloader.py:665: UserWarning: 'pin_memory' argument is set as true but no accelerator is found, then device pinned memory won't be used.\n",
      "  warnings.warn(warn_msg)\n",
      "c:\\Users\\julia\\anaconda3\\envs\\MusicClass\\Lib\\site-packages\\sklearn\\metrics\\_classification.py:1565: UndefinedMetricWarning: Precision is ill-defined and being set to 0.0 in labels with no predicted samples. Use `zero_division` parameter to control this behavior.\n",
      "  _warn_prf(average, modifier, f\"{metric.capitalize()} is\", len(result))\n",
      "c:\\Users\\julia\\anaconda3\\envs\\MusicClass\\Lib\\site-packages\\torch\\utils\\data\\dataloader.py:665: UserWarning: 'pin_memory' argument is set as true but no accelerator is found, then device pinned memory won't be used.\n",
      "  warnings.warn(warn_msg)\n"
     ]
    },
    {
     "name": "stdout",
     "output_type": "stream",
     "text": [
      "Epoch 1 | Train Loss: 2.1279 | Train Acc: 0.2800 | Train Prec: 0.2708\n",
      "Epoch 1 | Val Loss: 2.3169 | Val Acc: 0.1200 | Val Prec: 0.1103\n"
     ]
    },
    {
     "name": "stderr",
     "output_type": "stream",
     "text": [
      "c:\\Users\\julia\\anaconda3\\envs\\MusicClass\\Lib\\site-packages\\torch\\utils\\data\\dataloader.py:665: UserWarning: 'pin_memory' argument is set as true but no accelerator is found, then device pinned memory won't be used.\n",
      "  warnings.warn(warn_msg)\n",
      "c:\\Users\\julia\\anaconda3\\envs\\MusicClass\\Lib\\site-packages\\sklearn\\metrics\\_classification.py:1565: UndefinedMetricWarning: Precision is ill-defined and being set to 0.0 in labels with no predicted samples. Use `zero_division` parameter to control this behavior.\n",
      "  _warn_prf(average, modifier, f\"{metric.capitalize()} is\", len(result))\n",
      "c:\\Users\\julia\\anaconda3\\envs\\MusicClass\\Lib\\site-packages\\torch\\utils\\data\\dataloader.py:665: UserWarning: 'pin_memory' argument is set as true but no accelerator is found, then device pinned memory won't be used.\n",
      "  warnings.warn(warn_msg)\n"
     ]
    },
    {
     "name": "stdout",
     "output_type": "stream",
     "text": [
      "Epoch 2 | Train Loss: 1.7832 | Train Acc: 0.4171 | Train Prec: 0.3841\n",
      "Epoch 2 | Val Loss: 1.7220 | Val Acc: 0.3200 | Val Prec: 0.1630\n"
     ]
    },
    {
     "name": "stderr",
     "output_type": "stream",
     "text": [
      "c:\\Users\\julia\\anaconda3\\envs\\MusicClass\\Lib\\site-packages\\torch\\utils\\data\\dataloader.py:665: UserWarning: 'pin_memory' argument is set as true but no accelerator is found, then device pinned memory won't be used.\n",
      "  warnings.warn(warn_msg)\n"
     ]
    },
    {
     "name": "stdout",
     "output_type": "stream",
     "text": [
      "Epoch 3 | Train Loss: 1.4936 | Train Acc: 0.5271 | Train Prec: 0.5333\n",
      "Epoch 3 | Val Loss: 1.3982 | Val Acc: 0.5133 | Val Prec: 0.4981\n"
     ]
    },
    {
     "name": "stderr",
     "output_type": "stream",
     "text": [
      "c:\\Users\\julia\\anaconda3\\envs\\MusicClass\\Lib\\site-packages\\torch\\utils\\data\\dataloader.py:665: UserWarning: 'pin_memory' argument is set as true but no accelerator is found, then device pinned memory won't be used.\n",
      "  warnings.warn(warn_msg)\n",
      "c:\\Users\\julia\\anaconda3\\envs\\MusicClass\\Lib\\site-packages\\torch\\utils\\data\\dataloader.py:665: UserWarning: 'pin_memory' argument is set as true but no accelerator is found, then device pinned memory won't be used.\n",
      "  warnings.warn(warn_msg)\n"
     ]
    },
    {
     "name": "stdout",
     "output_type": "stream",
     "text": [
      "Epoch 4 | Train Loss: 1.2598 | Train Acc: 0.6086 | Train Prec: 0.6019\n",
      "Epoch 4 | Val Loss: 1.3685 | Val Acc: 0.5000 | Val Prec: 0.5102\n"
     ]
    },
    {
     "name": "stderr",
     "output_type": "stream",
     "text": [
      "c:\\Users\\julia\\anaconda3\\envs\\MusicClass\\Lib\\site-packages\\torch\\utils\\data\\dataloader.py:665: UserWarning: 'pin_memory' argument is set as true but no accelerator is found, then device pinned memory won't be used.\n",
      "  warnings.warn(warn_msg)\n",
      "c:\\Users\\julia\\anaconda3\\envs\\MusicClass\\Lib\\site-packages\\torch\\utils\\data\\dataloader.py:665: UserWarning: 'pin_memory' argument is set as true but no accelerator is found, then device pinned memory won't be used.\n",
      "  warnings.warn(warn_msg)\n"
     ]
    },
    {
     "name": "stdout",
     "output_type": "stream",
     "text": [
      "Epoch 5 | Train Loss: 1.1035 | Train Acc: 0.6471 | Train Prec: 0.6434\n",
      "Epoch 5 | Val Loss: 1.2134 | Val Acc: 0.5800 | Val Prec: 0.6049\n"
     ]
    },
    {
     "name": "stderr",
     "output_type": "stream",
     "text": [
      "c:\\Users\\julia\\anaconda3\\envs\\MusicClass\\Lib\\site-packages\\torch\\utils\\data\\dataloader.py:665: UserWarning: 'pin_memory' argument is set as true but no accelerator is found, then device pinned memory won't be used.\n",
      "  warnings.warn(warn_msg)\n",
      "c:\\Users\\julia\\anaconda3\\envs\\MusicClass\\Lib\\site-packages\\torch\\utils\\data\\dataloader.py:665: UserWarning: 'pin_memory' argument is set as true but no accelerator is found, then device pinned memory won't be used.\n",
      "  warnings.warn(warn_msg)\n"
     ]
    },
    {
     "name": "stdout",
     "output_type": "stream",
     "text": [
      "Epoch 6 | Train Loss: 0.9207 | Train Acc: 0.7086 | Train Prec: 0.7115\n",
      "Epoch 6 | Val Loss: 1.1867 | Val Acc: 0.5867 | Val Prec: 0.6407\n"
     ]
    },
    {
     "name": "stderr",
     "output_type": "stream",
     "text": [
      "c:\\Users\\julia\\anaconda3\\envs\\MusicClass\\Lib\\site-packages\\torch\\utils\\data\\dataloader.py:665: UserWarning: 'pin_memory' argument is set as true but no accelerator is found, then device pinned memory won't be used.\n",
      "  warnings.warn(warn_msg)\n",
      "c:\\Users\\julia\\anaconda3\\envs\\MusicClass\\Lib\\site-packages\\torch\\utils\\data\\dataloader.py:665: UserWarning: 'pin_memory' argument is set as true but no accelerator is found, then device pinned memory won't be used.\n",
      "  warnings.warn(warn_msg)\n"
     ]
    },
    {
     "name": "stdout",
     "output_type": "stream",
     "text": [
      "Epoch 7 | Train Loss: 0.8095 | Train Acc: 0.7500 | Train Prec: 0.7564\n",
      "Epoch 7 | Val Loss: 1.1436 | Val Acc: 0.6267 | Val Prec: 0.6573\n"
     ]
    },
    {
     "name": "stderr",
     "output_type": "stream",
     "text": [
      "c:\\Users\\julia\\anaconda3\\envs\\MusicClass\\Lib\\site-packages\\torch\\utils\\data\\dataloader.py:665: UserWarning: 'pin_memory' argument is set as true but no accelerator is found, then device pinned memory won't be used.\n",
      "  warnings.warn(warn_msg)\n",
      "c:\\Users\\julia\\anaconda3\\envs\\MusicClass\\Lib\\site-packages\\torch\\utils\\data\\dataloader.py:665: UserWarning: 'pin_memory' argument is set as true but no accelerator is found, then device pinned memory won't be used.\n",
      "  warnings.warn(warn_msg)\n"
     ]
    },
    {
     "name": "stdout",
     "output_type": "stream",
     "text": [
      "Epoch 8 | Train Loss: 0.7047 | Train Acc: 0.7771 | Train Prec: 0.7721\n",
      "Epoch 8 | Val Loss: 1.0423 | Val Acc: 0.6533 | Val Prec: 0.6728\n"
     ]
    },
    {
     "name": "stderr",
     "output_type": "stream",
     "text": [
      "c:\\Users\\julia\\anaconda3\\envs\\MusicClass\\Lib\\site-packages\\torch\\utils\\data\\dataloader.py:665: UserWarning: 'pin_memory' argument is set as true but no accelerator is found, then device pinned memory won't be used.\n",
      "  warnings.warn(warn_msg)\n",
      "c:\\Users\\julia\\anaconda3\\envs\\MusicClass\\Lib\\site-packages\\torch\\utils\\data\\dataloader.py:665: UserWarning: 'pin_memory' argument is set as true but no accelerator is found, then device pinned memory won't be used.\n",
      "  warnings.warn(warn_msg)\n"
     ]
    },
    {
     "name": "stdout",
     "output_type": "stream",
     "text": [
      "Epoch 9 | Train Loss: 0.5503 | Train Acc: 0.8300 | Train Prec: 0.8314\n",
      "Epoch 9 | Val Loss: 1.3039 | Val Acc: 0.6067 | Val Prec: 0.6102\n"
     ]
    },
    {
     "name": "stderr",
     "output_type": "stream",
     "text": [
      "c:\\Users\\julia\\anaconda3\\envs\\MusicClass\\Lib\\site-packages\\torch\\utils\\data\\dataloader.py:665: UserWarning: 'pin_memory' argument is set as true but no accelerator is found, then device pinned memory won't be used.\n",
      "  warnings.warn(warn_msg)\n",
      "c:\\Users\\julia\\anaconda3\\envs\\MusicClass\\Lib\\site-packages\\torch\\utils\\data\\dataloader.py:665: UserWarning: 'pin_memory' argument is set as true but no accelerator is found, then device pinned memory won't be used.\n",
      "  warnings.warn(warn_msg)\n"
     ]
    },
    {
     "name": "stdout",
     "output_type": "stream",
     "text": [
      "Epoch 10 | Train Loss: 0.4409 | Train Acc: 0.8743 | Train Prec: 0.8739\n",
      "Epoch 10 | Val Loss: 0.9937 | Val Acc: 0.6400 | Val Prec: 0.6727\n"
     ]
    },
    {
     "name": "stderr",
     "output_type": "stream",
     "text": [
      "c:\\Users\\julia\\anaconda3\\envs\\MusicClass\\Lib\\site-packages\\torch\\utils\\data\\dataloader.py:665: UserWarning: 'pin_memory' argument is set as true but no accelerator is found, then device pinned memory won't be used.\n",
      "  warnings.warn(warn_msg)\n",
      "c:\\Users\\julia\\anaconda3\\envs\\MusicClass\\Lib\\site-packages\\torch\\utils\\data\\dataloader.py:665: UserWarning: 'pin_memory' argument is set as true but no accelerator is found, then device pinned memory won't be used.\n",
      "  warnings.warn(warn_msg)\n"
     ]
    },
    {
     "name": "stdout",
     "output_type": "stream",
     "text": [
      "Epoch 11 | Train Loss: 0.3317 | Train Acc: 0.9100 | Train Prec: 0.9105\n",
      "Epoch 11 | Val Loss: 1.2187 | Val Acc: 0.6067 | Val Prec: 0.6659\n"
     ]
    },
    {
     "name": "stderr",
     "output_type": "stream",
     "text": [
      "c:\\Users\\julia\\anaconda3\\envs\\MusicClass\\Lib\\site-packages\\torch\\utils\\data\\dataloader.py:665: UserWarning: 'pin_memory' argument is set as true but no accelerator is found, then device pinned memory won't be used.\n",
      "  warnings.warn(warn_msg)\n",
      "c:\\Users\\julia\\anaconda3\\envs\\MusicClass\\Lib\\site-packages\\torch\\utils\\data\\dataloader.py:665: UserWarning: 'pin_memory' argument is set as true but no accelerator is found, then device pinned memory won't be used.\n",
      "  warnings.warn(warn_msg)\n"
     ]
    },
    {
     "name": "stdout",
     "output_type": "stream",
     "text": [
      "Epoch 12 | Train Loss: 0.2771 | Train Acc: 0.9271 | Train Prec: 0.9268\n",
      "Epoch 12 | Val Loss: 1.0931 | Val Acc: 0.7000 | Val Prec: 0.7197\n"
     ]
    },
    {
     "name": "stderr",
     "output_type": "stream",
     "text": [
      "c:\\Users\\julia\\anaconda3\\envs\\MusicClass\\Lib\\site-packages\\torch\\utils\\data\\dataloader.py:665: UserWarning: 'pin_memory' argument is set as true but no accelerator is found, then device pinned memory won't be used.\n",
      "  warnings.warn(warn_msg)\n",
      "c:\\Users\\julia\\anaconda3\\envs\\MusicClass\\Lib\\site-packages\\torch\\utils\\data\\dataloader.py:665: UserWarning: 'pin_memory' argument is set as true but no accelerator is found, then device pinned memory won't be used.\n",
      "  warnings.warn(warn_msg)\n"
     ]
    },
    {
     "name": "stdout",
     "output_type": "stream",
     "text": [
      "Epoch 13 | Train Loss: 0.2022 | Train Acc: 0.9614 | Train Prec: 0.9619\n",
      "Epoch 13 | Val Loss: 1.7588 | Val Acc: 0.5533 | Val Prec: 0.6173\n"
     ]
    },
    {
     "name": "stderr",
     "output_type": "stream",
     "text": [
      "c:\\Users\\julia\\anaconda3\\envs\\MusicClass\\Lib\\site-packages\\torch\\utils\\data\\dataloader.py:665: UserWarning: 'pin_memory' argument is set as true but no accelerator is found, then device pinned memory won't be used.\n",
      "  warnings.warn(warn_msg)\n",
      "c:\\Users\\julia\\anaconda3\\envs\\MusicClass\\Lib\\site-packages\\torch\\utils\\data\\dataloader.py:665: UserWarning: 'pin_memory' argument is set as true but no accelerator is found, then device pinned memory won't be used.\n",
      "  warnings.warn(warn_msg)\n"
     ]
    },
    {
     "name": "stdout",
     "output_type": "stream",
     "text": [
      "Epoch 14 | Train Loss: 0.1847 | Train Acc: 0.9500 | Train Prec: 0.9505\n",
      "Epoch 14 | Val Loss: 1.1462 | Val Acc: 0.6733 | Val Prec: 0.7082\n"
     ]
    },
    {
     "name": "stderr",
     "output_type": "stream",
     "text": [
      "c:\\Users\\julia\\anaconda3\\envs\\MusicClass\\Lib\\site-packages\\torch\\utils\\data\\dataloader.py:665: UserWarning: 'pin_memory' argument is set as true but no accelerator is found, then device pinned memory won't be used.\n",
      "  warnings.warn(warn_msg)\n",
      "c:\\Users\\julia\\anaconda3\\envs\\MusicClass\\Lib\\site-packages\\torch\\utils\\data\\dataloader.py:665: UserWarning: 'pin_memory' argument is set as true but no accelerator is found, then device pinned memory won't be used.\n",
      "  warnings.warn(warn_msg)\n"
     ]
    },
    {
     "name": "stdout",
     "output_type": "stream",
     "text": [
      "Epoch 15 | Train Loss: 0.1679 | Train Acc: 0.9586 | Train Prec: 0.9591\n",
      "Epoch 15 | Val Loss: 1.2494 | Val Acc: 0.6333 | Val Prec: 0.6711\n"
     ]
    },
    {
     "name": "stderr",
     "output_type": "stream",
     "text": [
      "c:\\Users\\julia\\anaconda3\\envs\\MusicClass\\Lib\\site-packages\\torch\\utils\\data\\dataloader.py:665: UserWarning: 'pin_memory' argument is set as true but no accelerator is found, then device pinned memory won't be used.\n",
      "  warnings.warn(warn_msg)\n",
      "c:\\Users\\julia\\anaconda3\\envs\\MusicClass\\Lib\\site-packages\\torch\\utils\\data\\dataloader.py:665: UserWarning: 'pin_memory' argument is set as true but no accelerator is found, then device pinned memory won't be used.\n",
      "  warnings.warn(warn_msg)\n"
     ]
    },
    {
     "name": "stdout",
     "output_type": "stream",
     "text": [
      "Epoch 16 | Train Loss: 0.1458 | Train Acc: 0.9629 | Train Prec: 0.9634\n",
      "Epoch 16 | Val Loss: 1.1482 | Val Acc: 0.6667 | Val Prec: 0.6940\n"
     ]
    },
    {
     "name": "stderr",
     "output_type": "stream",
     "text": [
      "c:\\Users\\julia\\anaconda3\\envs\\MusicClass\\Lib\\site-packages\\torch\\utils\\data\\dataloader.py:665: UserWarning: 'pin_memory' argument is set as true but no accelerator is found, then device pinned memory won't be used.\n",
      "  warnings.warn(warn_msg)\n",
      "c:\\Users\\julia\\anaconda3\\envs\\MusicClass\\Lib\\site-packages\\torch\\utils\\data\\dataloader.py:665: UserWarning: 'pin_memory' argument is set as true but no accelerator is found, then device pinned memory won't be used.\n",
      "  warnings.warn(warn_msg)\n"
     ]
    },
    {
     "name": "stdout",
     "output_type": "stream",
     "text": [
      "Epoch 17 | Train Loss: 0.1106 | Train Acc: 0.9729 | Train Prec: 0.9728\n",
      "Epoch 17 | Val Loss: 1.0699 | Val Acc: 0.6600 | Val Prec: 0.6851\n"
     ]
    },
    {
     "name": "stderr",
     "output_type": "stream",
     "text": [
      "c:\\Users\\julia\\anaconda3\\envs\\MusicClass\\Lib\\site-packages\\torch\\utils\\data\\dataloader.py:665: UserWarning: 'pin_memory' argument is set as true but no accelerator is found, then device pinned memory won't be used.\n",
      "  warnings.warn(warn_msg)\n",
      "c:\\Users\\julia\\anaconda3\\envs\\MusicClass\\Lib\\site-packages\\torch\\utils\\data\\dataloader.py:665: UserWarning: 'pin_memory' argument is set as true but no accelerator is found, then device pinned memory won't be used.\n",
      "  warnings.warn(warn_msg)\n"
     ]
    },
    {
     "name": "stdout",
     "output_type": "stream",
     "text": [
      "Epoch 18 | Train Loss: 0.0630 | Train Acc: 0.9900 | Train Prec: 0.9904\n",
      "Epoch 18 | Val Loss: 1.1404 | Val Acc: 0.6600 | Val Prec: 0.6807\n"
     ]
    },
    {
     "name": "stderr",
     "output_type": "stream",
     "text": [
      "c:\\Users\\julia\\anaconda3\\envs\\MusicClass\\Lib\\site-packages\\torch\\utils\\data\\dataloader.py:665: UserWarning: 'pin_memory' argument is set as true but no accelerator is found, then device pinned memory won't be used.\n",
      "  warnings.warn(warn_msg)\n",
      "c:\\Users\\julia\\anaconda3\\envs\\MusicClass\\Lib\\site-packages\\torch\\utils\\data\\dataloader.py:665: UserWarning: 'pin_memory' argument is set as true but no accelerator is found, then device pinned memory won't be used.\n",
      "  warnings.warn(warn_msg)\n"
     ]
    },
    {
     "name": "stdout",
     "output_type": "stream",
     "text": [
      "Epoch 19 | Train Loss: 0.0444 | Train Acc: 0.9957 | Train Prec: 0.9958\n",
      "Epoch 19 | Val Loss: 1.1009 | Val Acc: 0.7267 | Val Prec: 0.7443\n"
     ]
    },
    {
     "name": "stderr",
     "output_type": "stream",
     "text": [
      "c:\\Users\\julia\\anaconda3\\envs\\MusicClass\\Lib\\site-packages\\torch\\utils\\data\\dataloader.py:665: UserWarning: 'pin_memory' argument is set as true but no accelerator is found, then device pinned memory won't be used.\n",
      "  warnings.warn(warn_msg)\n",
      "c:\\Users\\julia\\anaconda3\\envs\\MusicClass\\Lib\\site-packages\\torch\\utils\\data\\dataloader.py:665: UserWarning: 'pin_memory' argument is set as true but no accelerator is found, then device pinned memory won't be used.\n",
      "  warnings.warn(warn_msg)\n"
     ]
    },
    {
     "name": "stdout",
     "output_type": "stream",
     "text": [
      "Epoch 20 | Train Loss: 0.0652 | Train Acc: 0.9814 | Train Prec: 0.9819\n",
      "Epoch 20 | Val Loss: 1.1256 | Val Acc: 0.6933 | Val Prec: 0.7007\n"
     ]
    },
    {
     "name": "stderr",
     "output_type": "stream",
     "text": [
      "c:\\Users\\julia\\anaconda3\\envs\\MusicClass\\Lib\\site-packages\\torch\\utils\\data\\dataloader.py:665: UserWarning: 'pin_memory' argument is set as true but no accelerator is found, then device pinned memory won't be used.\n",
      "  warnings.warn(warn_msg)\n",
      "c:\\Users\\julia\\anaconda3\\envs\\MusicClass\\Lib\\site-packages\\torch\\utils\\data\\dataloader.py:665: UserWarning: 'pin_memory' argument is set as true but no accelerator is found, then device pinned memory won't be used.\n",
      "  warnings.warn(warn_msg)\n"
     ]
    },
    {
     "name": "stdout",
     "output_type": "stream",
     "text": [
      "Epoch 21 | Train Loss: 0.0632 | Train Acc: 0.9886 | Train Prec: 0.9887\n",
      "Epoch 21 | Val Loss: 1.1137 | Val Acc: 0.7133 | Val Prec: 0.7372\n"
     ]
    },
    {
     "name": "stderr",
     "output_type": "stream",
     "text": [
      "c:\\Users\\julia\\anaconda3\\envs\\MusicClass\\Lib\\site-packages\\torch\\utils\\data\\dataloader.py:665: UserWarning: 'pin_memory' argument is set as true but no accelerator is found, then device pinned memory won't be used.\n",
      "  warnings.warn(warn_msg)\n",
      "c:\\Users\\julia\\anaconda3\\envs\\MusicClass\\Lib\\site-packages\\torch\\utils\\data\\dataloader.py:665: UserWarning: 'pin_memory' argument is set as true but no accelerator is found, then device pinned memory won't be used.\n",
      "  warnings.warn(warn_msg)\n"
     ]
    },
    {
     "name": "stdout",
     "output_type": "stream",
     "text": [
      "Epoch 22 | Train Loss: 0.0501 | Train Acc: 0.9914 | Train Prec: 0.9916\n",
      "Epoch 22 | Val Loss: 1.2160 | Val Acc: 0.6400 | Val Prec: 0.6802\n"
     ]
    },
    {
     "name": "stderr",
     "output_type": "stream",
     "text": [
      "c:\\Users\\julia\\anaconda3\\envs\\MusicClass\\Lib\\site-packages\\torch\\utils\\data\\dataloader.py:665: UserWarning: 'pin_memory' argument is set as true but no accelerator is found, then device pinned memory won't be used.\n",
      "  warnings.warn(warn_msg)\n",
      "c:\\Users\\julia\\anaconda3\\envs\\MusicClass\\Lib\\site-packages\\torch\\utils\\data\\dataloader.py:665: UserWarning: 'pin_memory' argument is set as true but no accelerator is found, then device pinned memory won't be used.\n",
      "  warnings.warn(warn_msg)\n"
     ]
    },
    {
     "name": "stdout",
     "output_type": "stream",
     "text": [
      "Epoch 23 | Train Loss: 0.0734 | Train Acc: 0.9800 | Train Prec: 0.9802\n",
      "Epoch 23 | Val Loss: 1.2380 | Val Acc: 0.6600 | Val Prec: 0.6715\n"
     ]
    },
    {
     "name": "stderr",
     "output_type": "stream",
     "text": [
      "c:\\Users\\julia\\anaconda3\\envs\\MusicClass\\Lib\\site-packages\\torch\\utils\\data\\dataloader.py:665: UserWarning: 'pin_memory' argument is set as true but no accelerator is found, then device pinned memory won't be used.\n",
      "  warnings.warn(warn_msg)\n",
      "c:\\Users\\julia\\anaconda3\\envs\\MusicClass\\Lib\\site-packages\\torch\\utils\\data\\dataloader.py:665: UserWarning: 'pin_memory' argument is set as true but no accelerator is found, then device pinned memory won't be used.\n",
      "  warnings.warn(warn_msg)\n"
     ]
    },
    {
     "name": "stdout",
     "output_type": "stream",
     "text": [
      "Epoch 24 | Train Loss: 0.0845 | Train Acc: 0.9743 | Train Prec: 0.9748\n",
      "Epoch 24 | Val Loss: 1.6543 | Val Acc: 0.6000 | Val Prec: 0.6827\n"
     ]
    },
    {
     "name": "stderr",
     "output_type": "stream",
     "text": [
      "c:\\Users\\julia\\anaconda3\\envs\\MusicClass\\Lib\\site-packages\\torch\\utils\\data\\dataloader.py:665: UserWarning: 'pin_memory' argument is set as true but no accelerator is found, then device pinned memory won't be used.\n",
      "  warnings.warn(warn_msg)\n",
      "c:\\Users\\julia\\anaconda3\\envs\\MusicClass\\Lib\\site-packages\\torch\\utils\\data\\dataloader.py:665: UserWarning: 'pin_memory' argument is set as true but no accelerator is found, then device pinned memory won't be used.\n",
      "  warnings.warn(warn_msg)\n"
     ]
    },
    {
     "name": "stdout",
     "output_type": "stream",
     "text": [
      "Epoch 25 | Train Loss: 0.1129 | Train Acc: 0.9657 | Train Prec: 0.9665\n",
      "Epoch 25 | Val Loss: 1.3217 | Val Acc: 0.6867 | Val Prec: 0.7155\n"
     ]
    }
   ],
   "source": [
    "model = model.to(device, non_blocking=True) #CUDA\n",
    "early_stopping = EarlyStopping(patience=5, delta=0.001)\n",
    "for epoch in range(start_epoch, num_epochs):\n",
    "    # Training phase\n",
    "    model.train()\n",
    "    total_train_loss = 0\n",
    "    correct_train = 0\n",
    "    total_train = 0\n",
    "    y_train_true = []\n",
    "    y_train_pred = []\n",
    "    for images, labels in train_loader:\n",
    "        images, labels = images.to(device, non_blocking=True), labels.to(device, non_blocking=True)\n",
    "\n",
    "        optimizer.zero_grad()\n",
    "        outputs = model(images)\n",
    "        loss = criterion(outputs, labels)\n",
    "        loss.backward()\n",
    "        optimizer.step()\n",
    "\n",
    "        total_train_loss += loss.item()\n",
    "\n",
    "        _, predicted = torch.max(outputs, 1)\n",
    "        correct_train += (predicted == labels).sum().item()\n",
    "        total_train += labels.size(0)\n",
    "\n",
    "        y_train_true.extend(labels.cpu().numpy())\n",
    "        y_train_pred.extend(predicted.cpu().numpy())\n",
    "\n",
    "    avg_train_loss = total_train_loss / len(train_loader)\n",
    "    train_accuracy = correct_train / total_train\n",
    "\n",
    "    train_losses.append(avg_train_loss)\n",
    "    train_accuracies.append(train_accuracy)\n",
    "\n",
    "    train_precision = precision_score(y_train_true, y_train_pred, average='macro')\n",
    "    train_precisions.append(train_precision)\n",
    "\n",
    "    # Validation phase\n",
    "    model.eval()\n",
    "    total_val_loss = 0\n",
    "    correct_val = 0\n",
    "    total_val = 0\n",
    "    y_val_true = []\n",
    "    y_val_pred = []\n",
    "    \n",
    "    with torch.no_grad():\n",
    "        for images, labels in val_loader:\n",
    "            images, labels = images.to(device, non_blocking=True), labels.to(device, non_blocking=True)\n",
    "            outputs = model(images)\n",
    "            total_val_loss += criterion(outputs, labels).item()\n",
    "\n",
    "            _, predicted = torch.max(outputs, 1)\n",
    "            correct_val += (predicted == labels).sum().item()\n",
    "            total_val += labels.size(0)\n",
    "\n",
    "            y_val_true.extend(labels.cpu().numpy())\n",
    "            y_val_pred.extend(predicted.cpu().numpy())\n",
    "\n",
    "    avg_val_loss = total_val_loss / len(val_loader)\n",
    "    val_accuracy = correct_val / total_val\n",
    "\n",
    "    val_losses.append(avg_val_loss)\n",
    "    val_accuracies.append(val_accuracy)\n",
    "\n",
    "    val_precision = precision_score(y_val_true, y_val_pred, average='macro')\n",
    "    val_precisions.append(val_precision)\n",
    "\n",
    "    '''\n",
    "    early_stopping(avg_val_loss, model)\n",
    "    if early_stopping.early_stop:\n",
    "        print(f\"Early stopping at epoch {epoch+1}\")\n",
    "        num_epochs = epoch + 1\n",
    "        break\n",
    "    '''\n",
    "\n",
    "    print(f\"Epoch {epoch+1} | Train Loss: {avg_train_loss:.4f} | Train Acc: {train_accuracy:.4f} | Train Prec: {train_precision:.4f}\")\n",
    "    print(f\"Epoch {epoch+1} | Val Loss: {avg_val_loss:.4f} | Val Acc: {val_accuracy:.4f} | Val Prec: {val_precision:.4f}\")"
   ]
  },
  {
   "cell_type": "code",
   "execution_count": 10,
   "id": "5fae844d",
   "metadata": {},
   "outputs": [
    {
     "name": "stderr",
     "output_type": "stream",
     "text": [
      "c:\\Users\\julia\\anaconda3\\envs\\MusicClass\\Lib\\site-packages\\torch\\utils\\data\\dataloader.py:665: UserWarning: 'pin_memory' argument is set as true but no accelerator is found, then device pinned memory won't be used.\n",
      "  warnings.warn(warn_msg)\n"
     ]
    }
   ],
   "source": [
    "y_true = []\n",
    "y_pred = []\n",
    "\n",
    "with torch.no_grad():\n",
    "    for images, labels in test_loader:\n",
    "        images = images.to(device, non_blocking=True)\n",
    "        labels = labels.to(device, non_blocking=True)\n",
    "\n",
    "        outputs = model(images)\n",
    "        _, preds = torch.max(outputs, 1)\n",
    "\n",
    "        y_true.extend(labels.cpu().numpy())\n",
    "        y_pred.extend(preds.cpu().numpy())\n"
   ]
  },
  {
   "cell_type": "code",
   "execution_count": 11,
   "id": "ad21dc55",
   "metadata": {},
   "outputs": [
    {
     "name": "stdout",
     "output_type": "stream",
     "text": [
      "Accuracy: 0.7000\n",
      "Precision (macro): 0.7255\n",
      "F1 Score (macro): 0.6984\n",
      "Confusion Matrix:\n"
     ]
    },
    {
     "data": {
      "image/png": "[encoded data removed]",
      "text/plain": [
       "<Figure size 800x600 with 2 Axes>"
      ]
     },
     "metadata": {},
     "output_type": "display_data"
    }
   ],
   "source": [
    "import matplotlib.pyplot as plt\n",
    "test_accuracy = accuracy_score(y_true, y_pred)\n",
    "test_precision = precision_score(y_true, y_pred, average='macro')\n",
    "test_f1 = f1_score(y_true, y_pred, average='macro')\n",
    "conf_matrix = confusion_matrix(y_true, y_pred)\n",
    "\n",
    "print(f\"Accuracy: {test_accuracy:.4f}\")\n",
    "print(f\"Precision (macro): {test_precision:.4f}\")\n",
    "print(f\"F1 Score (macro): {test_f1:.4f}\")\n",
    "print(\"Confusion Matrix:\")\n",
    "\n",
    "class_names = test_dataset.label_map.keys()\n",
    "\n",
    "fig, ax = plt.subplots(figsize=(8, 6))\n",
    "cax = ax.matshow(conf_matrix, cmap='Blues')\n",
    "fig.colorbar(cax)\n",
    "# Dodaj etykiety osi\n",
    "ax.set_xticks(np.arange(len(class_names)))\n",
    "ax.set_yticks(np.arange(len(class_names)))\n",
    "ax.set_xticklabels(class_names)\n",
    "ax.set_yticklabels(class_names)\n",
    "\n",
    "# Dodaj liczby do komórek\n",
    "for i in range(len(conf_matrix)):\n",
    "    for j in range(len(conf_matrix[i])):\n",
    "        ax.text(j, i, str(conf_matrix[i][j]),\n",
    "                va='center', ha='center', color='black', fontsize=12)\n",
    "\n",
    "# Oznaczenia osi\n",
    "plt.xlabel('Prediction')\n",
    "plt.ylabel('True genre')\n",
    "plt.title('Confusion matrix')\n",
    "plt.tight_layout()\n",
    "plt.show()\n"
   ]
  },
  {
   "cell_type": "code",
   "execution_count": 12,
   "id": "b46297ca",
   "metadata": {},
   "outputs": [
    {
     "data": {
      "image/png": "[encoded data removed]",
      "text/plain": [
       "<Figure size 1200x600 with 3 Axes>"
      ]
     },
     "metadata": {},
     "output_type": "display_data"
    }
   ],
   "source": [
    "# Plotting the Loss and Accuracy curves\n",
    "plt.figure(figsize=(12, 6))\n",
    "\n",
    "# Losses\n",
    "plt.subplot(1, 3, 1)\n",
    "plt.plot(range(num_epochs), train_losses, label='Train Loss')\n",
    "plt.plot(range(num_epochs), val_losses, label='Val Loss')\n",
    "plt.title(\"Loss Curve\")\n",
    "plt.xlabel(\"Epochs\")\n",
    "plt.ylabel(\"Loss\")\n",
    "plt.legend()\n",
    "\n",
    "# Accuracy\n",
    "plt.subplot(1, 3, 2)\n",
    "plt.plot(range(num_epochs), train_accuracies, label='Train Accuracy')\n",
    "plt.plot(range(num_epochs), val_accuracies, label='Val Accuracy')\n",
    "plt.title(\"Accuracy Curve\")\n",
    "plt.xlabel(\"Epochs\")\n",
    "plt.ylabel(\"Accuracy\")\n",
    "plt.legend()\n",
    "\n",
    "# Precision\n",
    "plt.subplot(1, 3, 3)\n",
    "plt.plot(range(num_epochs), train_precisions, label='Train Precision')\n",
    "plt.plot(range(num_epochs), val_precisions, label='Val Precision')\n",
    "plt.title(\"Precision Curve\")\n",
    "plt.xlabel(\"Epochs\")\n",
    "plt.ylabel(\"Precision\")\n",
    "plt.legend()\n",
    "\n",
    "plt.show()"
   ]
  },
  {
   "cell_type": "code",
   "execution_count": 13,
   "id": "8bb91450",
   "metadata": {},
   "outputs": [],
   "source": [
    "\n",
    "torch.save({\n",
    "    'epoch': num_epochs,\n",
    "    'model_state_dict': model.state_dict(),\n",
    "    'optimizer_state_dict': optimizer.state_dict(),\n",
    "    'loss': loss,\n",
    "    'train_accuracies': train_accuracies,\n",
    "    'val_accuracies': val_accuracies,\n",
    "    'train_losses': train_losses,\n",
    "    'val_losses': val_losses,\n",
    "    'train_precisions: ': train_precisions,\n",
    "    'val_precisions': val_precisions,\n",
    "    'test_accuracy' : test_accuracy,\n",
    "    'test_precision' : test_precision,\n",
    "    'test_f1': test_f1,\n",
    "    'conf_matrix': conf_matrix\n",
    "}, get_filename_with_date())"
   ]
  },
  {
   "cell_type": "code",
   "execution_count": 14,
   "id": "c2570e3c",
   "metadata": {},
   "outputs": [
    {
     "data": {
      "text/plain": [
       "\"\\ntorch.save(model.state_dict(), 'model.pth')\\n\""
      ]
     },
     "execution_count": 14,
     "metadata": {},
     "output_type": "execute_result"
    }
   ],
   "source": [
    "'''\n",
    "torch.save(model.state_dict(), 'model.pth')\n",
    "'''"
   ]
  },
  {
   "cell_type": "code",
   "execution_count": 15,
   "id": "c9ffe4e3",
   "metadata": {},
   "outputs": [
    {
     "data": {
      "text/plain": [
       "\"\\n\\nnum_classes = 10\\nmodel = densenet121()\\nmodel.classifier = nn.Linear(model.classifier.in_features, num_classes)\\nmodel.load_state_dict(torch.load('model.pth'))\\nmodel.eval()\\nsuccess = 0\\nval_size = 1\\nfor elem in val_dataset:\\n    image, label = elem\\n    with torch.no_grad():\\n        output = model(image.unsqueeze(0))\\n    _, predicted = torch.max(output, 1)\\n\\n    if predicted == label:\\n        success += 1\\n    val_size += 1\\nprint(success/val_size)\\n\\n\""
      ]
     },
     "execution_count": 15,
     "metadata": {},
     "output_type": "execute_result"
    }
   ],
   "source": [
    "'''\n",
    "\n",
    "num_classes = 10\n",
    "model = densenet121()\n",
    "model.classifier = nn.Linear(model.classifier.in_features, num_classes)\n",
    "model.load_state_dict(torch.load('model.pth'))\n",
    "model.eval()\n",
    "success = 0\n",
    "val_size = 1\n",
    "for elem in val_dataset:\n",
    "    image, label = elem\n",
    "    with torch.no_grad():\n",
    "        output = model(image.unsqueeze(0))\n",
    "    _, predicted = torch.max(output, 1)\n",
    "\n",
    "    if predicted == label:\n",
    "        success += 1\n",
    "    val_size += 1\n",
    "print(success/val_size)\n",
    "\n",
    "'''"
   ]
  }
 ],
 "metadata": {
  "kernelspec": {
   "display_name": "Python (myenv)",
   "language": "python",
   "name": "myenv"
  },
  "language_info": {
   "codemirror_mode": {
    "name": "ipython",
    "version": 3
   },
   "file_extension": ".py",
   "mimetype": "text/x-python",
   "name": "python",
   "nbconvert_exporter": "python",
   "pygments_lexer": "ipython3",
   "version": "3.12.9"
  }
 },
 "nbformat": 4,
 "nbformat_minor": 5
}
