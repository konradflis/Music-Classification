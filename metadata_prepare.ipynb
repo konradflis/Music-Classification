{
 "cells": [
  {
   "cell_type": "code",
   "execution_count": 1,
   "id": "5d17c777",
   "metadata": {},
   "outputs": [],
   "source": [
    "import pandas as pd\n",
    "\n",
    "import os"
   ]
  },
  {
   "cell_type": "code",
   "execution_count": 2,
   "id": "7d81f188",
   "metadata": {},
   "outputs": [
    {
     "name": "stdout",
     "output_type": "stream",
     "text": [
      "CSV file created: project_data/tracks.csv\n"
     ]
    }
   ],
   "source": [
    "# Define the data folder path\n",
    "data_folder = 'dataset/data/genres_original'\n",
    "\n",
    "# Prepare a list to store file names and genres\n",
    "file_data = []\n",
    "\n",
    "# Iterate through each genre folder and collect file names\n",
    "for genre in os.listdir(data_folder):\n",
    "    genre_folder = os.path.join(data_folder, genre)\n",
    "    if os.path.isdir(genre_folder):\n",
    "        for file_name in os.listdir(genre_folder):\n",
    "            if file_name.endswith('.wav'):\n",
    "                file_data.append({'file_name': file_name, 'genre': genre})\n",
    "\n",
    "# Create a DataFrame from the collected data\n",
    "df = pd.DataFrame(file_data)\n",
    "\n",
    "# Sort the DataFrame by file_name\n",
    "df.sort_values(by='file_name', inplace=True)\n",
    "\n",
    "# Reindex the DataFrame after sorting\n",
    "df.reset_index(drop=True, inplace=True)\n",
    "\n",
    "df = df[df['file_name'] != 'jazz.00054.wav']\n",
    "\n",
    "# Save the sorted and reindexed DataFrame to a CSV file\n",
    "df.to_csv('project_data/tracks.csv', index=False)\n",
    "print('CSV file created: project_data/tracks.csv')"
   ]
  }
 ],
 "metadata": {
  "kernelspec": {
   "display_name": ".venv",
   "language": "python",
   "name": "python3"
  },
  "language_info": {
   "codemirror_mode": {
    "name": "ipython",
    "version": 3
   },
   "file_extension": ".py",
   "mimetype": "text/x-python",
   "name": "python",
   "nbconvert_exporter": "python",
   "pygments_lexer": "ipython3",
   "version": "3.12.8"
  }
 },
 "nbformat": 4,
 "nbformat_minor": 5
}
