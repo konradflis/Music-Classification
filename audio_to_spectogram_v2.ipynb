{
 "cells": [
  {
   "cell_type": "markdown",
   "id": "747375ed53d58c41",
   "metadata": {},
   "source": [
    "## Test Mel Spectogram"
   ]
  },
  {
   "metadata": {},
   "cell_type": "code",
   "outputs": [],
   "execution_count": null,
   "source": "!",
   "id": "e139e8b7dbe1d10b"
  },
  {
   "cell_type": "markdown",
   "id": "b51b3df215bd2da1",
   "metadata": {},
   "source": [
    "### Import library"
   ]
  },
  {
   "cell_type": "code",

   "execution_count": null,
   "id": "b6150aedc04a866e",
   "metadata": {
    "ExecuteTime": {
     "end_time": "2025-05-13T15:11:16.951714Z",
     "start_time": "2025-05-13T15:11:16.946706Z"
    }
   },
   "source": [
    "import utils\n",
    "import librosa\n",
    "import librosa.display as display\n",
    "import numpy as np\n",
    "import pandas as pd\n",
    "import matplotlib.pyplot as plt\n",
    "from pathlib import Path\n",
    "import cv2\n",
    "import os\n",
    "from mutagen.mp3 import MP3"
   ],
   "outputs": [],
   "execution_count": 3
  },
  {
   "cell_type": "markdown",
   "id": "57fdbbf1c131d168",
   "metadata": {},
   "source": [
    "### Spectogram"
   ]
  },
  {
   "cell_type": "code",
   "execution_count": null,
   "id": "a816c74cada4988d",
   "metadata": {
    "ExecuteTime": {
     "end_time": "2025-05-13T15:11:19.361930Z",
     "start_time": "2025-05-13T15:11:19.356958Z"
    }
   },
   "source": [
    "def mp3_to_melspec(mp3_file, output_path, *, sr=22050, duration=30, n_fft=2048, n_mels=244, hop_length=2713):\n",
    "\n",
    "    y, sr = librosa.load(mp3_file, sr=sr, duration=duration)\n",
    "\n",
    "    # calculate mel-spectrogram\n",
    "    mel_spec = librosa.feature.melspectrogram(\n",
    "    y=y, sr=sr, n_fft=n_fft, hop_length=hop_length, n_mels=n_mels\n",
    "    )\n",
    "    mel_spec_db = librosa.power_to_db(mel_spec, ref=np.max)\n",
    "    normalized = (mel_spec_db - np.min(mel_spec_db)) / (np.max(mel_spec_db)-np.min(mel_spec_db))  #\n",
    "\n",
    "    os.makedirs(os.path.dirname(output_path), exist_ok=True)\n",
    "    display.specshow(normalized, sr=sr, hop_length=hop_length)\n",
    "    plt.savefig(str(output_path), bbox_inches='tight', pad_inches=0)\n",
    "    plt.close()"
   ],
   "outputs": [],
   "execution_count": 4
  },
  {
   "cell_type": "code",

   "execution_count": null,

   "id": "7f8d73c3",
   "metadata": {
    "ExecuteTime": {
     "end_time": "2025-05-13T15:11:21.305859Z",
     "start_time": "2025-05-13T15:11:21.296999Z"
    }
   },
   "source": [
    "tracks = pd.read_csv('project_data/tracks.csv')\n",
    "track_ids = tracks['file_name']\n",
    "AUDIO_DIR = 'dataset/data/genres_original/'\n",
    "SPECT_PATH = 'project_data/spectrograms'"
   ],
   "outputs": [],
   "execution_count": 5
  },
  {
   "cell_type": "code",

   "execution_count": null,

   "id": "c5ccfd4cc3b123be",
   "metadata": {
    "ExecuteTime": {
     "end_time": "2025-05-13T15:19:15.086288Z",
     "start_time": "2025-05-13T15:17:41.579938Z"
    }
   },

   "outputs": [],
   "source": [
    "# Create spectrograms\n",
    "cnt = 0\n",
    "\n",
    "for track_id in track_ids:\n",
    "    cnt += 1\n",
    "    if cnt % 100 == 0:\n",
    "        print(f\"Processing track {cnt}...\")\n",
    "    path = utils.get_audio_path(AUDIO_DIR, track_id )\n",
    "    output_file = utils.get_spectrogram_path(SPECT_PATH, track_id)\n",
    "    try:\n",
    "        mp3_to_melspec(path, output_file)\n",
    "    except Exception as e:\n",
    "        print(f\"Błąd przy pliku {track_id}: {e}\")\n"

   ]
  }
 ],
 "metadata": {
  "kernelspec": {
   "display_name": ".venv",
   "language": "python",
   "name": "python3"
  },
  "language_info": {
   "codemirror_mode": {
    "name": "ipython",
    "version": 3
   },
   "file_extension": ".py",
   "mimetype": "text/x-python",
   "name": "python",
   "nbconvert_exporter": "python",
   "pygments_lexer": "ipython3",
   "version": "3.12.8"
  }
 },
 "nbformat": 4,
 "nbformat_minor": 5
}
