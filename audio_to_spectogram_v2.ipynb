{
 "cells": [
  {
   "cell_type": "markdown",
   "id": "747375ed53d58c41",
   "metadata": {},
   "source": [
    "## Test Mel Spectogram"
   ]
  },
  {
   "cell_type": "markdown",
   "id": "b51b3df215bd2da1",
   "metadata": {},
   "source": [
    "### Import library"
   ]
  },
  {
   "cell_type": "code",
   "execution_count": null,
   "id": "b6150aedc04a866e",
   "metadata": {
    "ExecuteTime": {
     "end_time": "2025-04-30T15:42:50.186777Z",
     "start_time": "2025-04-30T15:42:47.738579Z"
    }
   },
   "outputs": [],
   "source": [
    "import utils\n",
    "import librosa\n",
    "import numpy as np\n",
    "import pandas as pd\n",
    "import matplotlib.pyplot as plt\n",
    "from pathlib import Path\n",
    "import cv2\n",
    "import os\n",
    "from mutagen.mp3 import MP3"
   ]
  },
  {
   "cell_type": "markdown",
   "id": "57fdbbf1c131d168",
   "metadata": {},
   "source": [
    "### Spectogram"
   ]
  },
  {
   "cell_type": "code",
   "execution_count": null,
   "id": "a816c74cada4988d",
   "metadata": {
    "ExecuteTime": {
     "end_time": "2025-04-30T15:42:51.980053Z",
     "start_time": "2025-04-30T15:42:51.970160Z"
    }
   },
   "outputs": [],
   "source": [
    "def mp3_to_melspec(mp3_file, output_path, *, sr=22050, duration=30, n_fft=2048, n_mels=244, hop_length=2713):\n",
    "\n",
    "    y, sr = librosa.load(mp3_file, sr=sr, duration=duration)\n",
    "\n",
    "    # calculete mel-spectogram\n",
    "    mel_spec = librosa.feature.melspectrogram(\n",
    "    y=y, sr=sr, n_fft=n_fft, hop_length=hop_length, n_mels=n_mels\n",
    "    )\n",
    "    mel_spec_db = librosa.power_to_db(mel_spec, ref=np.max)\n",
    "    normalized = (mel_spec_db - np.min(mel_spec_db)) / (np.max(mel_spec_db)-np.min(mel_spec_db))  #\n",
    "\n",
    "    os.makedirs(os.path.dirname(output_path), exist_ok=True)\n",
    "    librosa.display.specshow(normalized, sr=sr, hop_length=hop_length)\n",
    "    plt.savefig(str(output_path), bbox_inches='tight', pad_inches=0)\n",
    "    plt.close()"
   ]
  },
  {
   "cell_type": "code",
   "execution_count": null,
   "id": "7f8d73c3",
   "metadata": {},
   "outputs": [],
   "source": [
    "tracks = pd.read_csv('project_data/tracks.csv', index_col=0)\n",
    "track_ids = tracks.index\n",
    "AUDIO_DIR = 'dataset/fma_small'\n",
    "SPECT_PATH = 'project_data/spectrograms'"
   ]
  },
  {
   "cell_type": "code",
   "execution_count": null,
   "id": "c5ccfd4cc3b123be",
   "metadata": {
    "ExecuteTime": {
     "end_time": "2025-04-30T15:43:01.682461Z",
     "start_time": "2025-04-30T15:42:52.325636Z"
    }
   },
   "outputs": [],
   "source": [
    "# Create spectrograms\n",
    "cnt = 0\n",
    "\n",
    "for i in track_ids:\n",
    "    cnt += 1\n",
    "    if cnt % 100 == 0:\n",
    "        print(f\"Processing track {cnt}...\")\n",
    "    path = utils.get_audio_path(AUDIO_DIR, i)\n",
    "    output_file = utils.get_spectogram_path(SPECT_PATH, i)\n",
    "    try:\n",
    "        mp3_to_melspec(path, output_file)\n",
    "    except Exception as e:\n",
    "        print(f\"Błąd przy pliku {track_ids}: {e}\")\n"
   ]
  }
 ],
 "metadata": {
  "kernelspec": {
   "display_name": ".venv",
   "language": "python",
   "name": "python3"
  },
  "language_info": {
   "codemirror_mode": {
    "name": "ipython",
    "version": 3
   },
   "file_extension": ".py",
   "mimetype": "text/x-python",
   "name": "python",
   "nbconvert_exporter": "python",
   "pygments_lexer": "ipython3",
   "version": "3.13.2"
  }
 },
 "nbformat": 4,
 "nbformat_minor": 5
}
