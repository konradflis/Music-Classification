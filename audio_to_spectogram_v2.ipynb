{
 "cells": [
  {
   "cell_type": "markdown",
   "id": "747375ed53d58c41",
   "metadata": {},
   "source": [
    "## Test Mel Spectogram"
   ]
  },
  {
   "cell_type": "markdown",
   "id": "b51b3df215bd2da1",
   "metadata": {},
   "source": [
    "### Import library"
   ]
  },
  {
   "cell_type": "code",
   "execution_count": 2,
   "id": "b6150aedc04a866e",
   "metadata": {
    "ExecuteTime": {
     "end_time": "2025-04-30T15:42:50.186777Z",
     "start_time": "2025-04-30T15:42:47.738579Z"
    }
   },
   "outputs": [
    {
     "name": "stderr",
     "output_type": "stream",
     "text": [
      "Matplotlib is building the font cache; this may take a moment.\n"
     ]
    }
   ],
   "source": [
    "import utils\n",
    "import librosa\n",
    "import librosa.display as display\n",
    "import numpy as np\n",
    "import pandas as pd\n",
    "import matplotlib.pyplot as plt\n",
    "from pathlib import Path\n",
    "import cv2\n",
    "import os\n",
    "from mutagen.mp3 import MP3"
   ]
  },
  {
   "cell_type": "markdown",
   "id": "57fdbbf1c131d168",
   "metadata": {},
   "source": [
    "### Spectogram"
   ]
  },
  {
   "cell_type": "code",
   "execution_count": null,
   "id": "a816c74cada4988d",
   "metadata": {
    "ExecuteTime": {
     "end_time": "2025-04-30T15:42:51.980053Z",
     "start_time": "2025-04-30T15:42:51.970160Z"
    }
   },
   "outputs": [],
   "source": [
    "def mp3_to_melspec(mp3_file, output_path, *, sr=22050, duration=30, n_fft=2048, n_mels=244, hop_length=2713):\n",
    "\n",
    "    y, sr = librosa.load(mp3_file, sr=sr, duration=duration)\n",
    "\n",
    "    # calculate mel-spectrogram\n",
    "    mel_spec = librosa.feature.melspectrogram(\n",
    "    y=y, sr=sr, n_fft=n_fft, hop_length=hop_length, n_mels=n_mels\n",
    "    )\n",
    "    mel_spec_db = librosa.power_to_db(mel_spec, ref=np.max)\n",
    "    normalized = (mel_spec_db - np.min(mel_spec_db)) / (np.max(mel_spec_db)-np.min(mel_spec_db))  #\n",
    "\n",
    "    os.makedirs(os.path.dirname(output_path), exist_ok=True)\n",
    "    display.specshow(normalized, sr=sr, hop_length=hop_length)\n",
    "    plt.savefig(str(output_path), bbox_inches='tight', pad_inches=0)\n",
    "    plt.close()"
   ]
  },
  {
   "cell_type": "code",
   "execution_count": null,
   "id": "7f8d73c3",
   "metadata": {},
   "outputs": [
    {
     "name": "stdout",
     "output_type": "stream",
     "text": [
      "0      blues.00000.wav\n",
      "1      blues.00001.wav\n",
      "2      blues.00002.wav\n",
      "3      blues.00003.wav\n",
      "4      blues.00004.wav\n",
      "            ...       \n",
      "995     rock.00095.wav\n",
      "996     rock.00096.wav\n",
      "997     rock.00097.wav\n",
      "998     rock.00098.wav\n",
      "999     rock.00099.wav\n",
      "Name: file_name, Length: 1000, dtype: object\n"
     ]
    }
   ],
   "source": [
    "tracks = pd.read_csv('project_data/tracks.csv')\n",
    "track_ids = tracks['file_name']\n",
    "AUDIO_DIR = 'dataset/data/genres_original/'\n",
    "SPECT_PATH = 'project_data/spectrograms'"
   ]
  },
  {
   "cell_type": "code",
   "execution_count": 22,
   "id": "c5ccfd4cc3b123be",
   "metadata": {
    "ExecuteTime": {
     "end_time": "2025-04-30T15:43:01.682461Z",
     "start_time": "2025-04-30T15:42:52.325636Z"
    }
   },
   "outputs": [
    {
     "ename": "ValueError",
     "evalue": "Unknown format code 'd' for object of type 'str'",
     "output_type": "error",
     "traceback": [
      "\u001b[31m---------------------------------------------------------------------------\u001b[39m",
      "\u001b[31mValueError\u001b[39m                                Traceback (most recent call last)",
      "\u001b[36mCell\u001b[39m\u001b[36m \u001b[39m\u001b[32mIn[22]\u001b[39m\u001b[32m, line 8\u001b[39m\n\u001b[32m      6\u001b[39m \u001b[38;5;28;01mif\u001b[39;00m cnt % \u001b[32m100\u001b[39m == \u001b[32m0\u001b[39m:\n\u001b[32m      7\u001b[39m     \u001b[38;5;28mprint\u001b[39m(\u001b[33mf\u001b[39m\u001b[33m\"\u001b[39m\u001b[33mProcessing track \u001b[39m\u001b[38;5;132;01m{\u001b[39;00mcnt\u001b[38;5;132;01m}\u001b[39;00m\u001b[33m...\u001b[39m\u001b[33m\"\u001b[39m)\n\u001b[32m----> \u001b[39m\u001b[32m8\u001b[39m path = \u001b[43mutils\u001b[49m\u001b[43m.\u001b[49m\u001b[43mget_audio_path\u001b[49m\u001b[43m(\u001b[49m\u001b[43mAUDIO_DIR\u001b[49m\u001b[43m,\u001b[49m\u001b[43m \u001b[49m\u001b[43mtrack_id\u001b[49m\u001b[43m \u001b[49m\u001b[43m)\u001b[49m\n\u001b[32m      9\u001b[39m output_file = utils.get_spectrogram_path(SPECT_PATH, track_id)\n\u001b[32m     10\u001b[39m \u001b[38;5;28;01mtry\u001b[39;00m:\n",
      "\u001b[36mFile \u001b[39m\u001b[32mc:\\Users\\julia\\Documents\\Music_Class\\Music-Classification\\utils.py:23\u001b[39m, in \u001b[36mget_audio_path\u001b[39m\u001b[34m(audio_dir, track_id)\u001b[39m\n\u001b[32m     10\u001b[39m \u001b[38;5;28;01mdef\u001b[39;00m\u001b[38;5;250m \u001b[39m\u001b[34mget_audio_path\u001b[39m(audio_dir, track_id):\n\u001b[32m     11\u001b[39m \u001b[38;5;250m    \u001b[39m\u001b[33;03m\"\"\"\u001b[39;00m\n\u001b[32m     12\u001b[39m \u001b[33;03m    Return the path to the mp3 given the directory where the audio is stored\u001b[39;00m\n\u001b[32m     13\u001b[39m \u001b[33;03m    and the track ID.\u001b[39;00m\n\u001b[32m   (...)\u001b[39m\u001b[32m     21\u001b[39m \n\u001b[32m     22\u001b[39m \u001b[33;03m    \"\"\"\u001b[39;00m\n\u001b[32m---> \u001b[39m\u001b[32m23\u001b[39m     tid_str = \u001b[33;43m'\u001b[39;49m\u001b[38;5;132;43;01m{:06d}\u001b[39;49;00m\u001b[33;43m'\u001b[39;49m\u001b[43m.\u001b[49m\u001b[43mformat\u001b[49m\u001b[43m(\u001b[49m\u001b[43mtrack_id\u001b[49m\u001b[43m)\u001b[49m\n\u001b[32m     24\u001b[39m     \u001b[38;5;28;01mreturn\u001b[39;00m os.path.join(audio_dir, tid_str[:\u001b[32m3\u001b[39m], tid_str + \u001b[33m'\u001b[39m\u001b[33m.mp3\u001b[39m\u001b[33m'\u001b[39m)\n",
      "\u001b[31mValueError\u001b[39m: Unknown format code 'd' for object of type 'str'"
     ]
    }
   ],
   "source": [
    "# Create spectrograms\n",
    "cnt = 0\n",
    "\n",
    "for track_id in track_ids:\n",
    "    cnt += 1\n",
    "    if cnt % 100 == 0:\n",
    "        print(f\"Processing track {cnt}...\")\n",
    "    path = utils.get_audio_path(AUDIO_DIR, track_id )\n",
    "    output_file = utils.get_spectrogram_path(SPECT_PATH, track_id)\n",
    "    try:\n",
    "        mp3_to_melspec(path, output_file)\n",
    "    except Exception as e:\n",
    "        print(f\"Błąd przy pliku {track_id}: {e}\")\n"
   ]
  }
 ],
 "metadata": {
  "kernelspec": {
   "display_name": "Python (jup)",
   "language": "python",
   "name": "jup"
  },
  "language_info": {
   "codemirror_mode": {
    "name": "ipython",
    "version": 3
   },
   "file_extension": ".py",
   "mimetype": "text/x-python",
   "name": "python",
   "nbconvert_exporter": "python",
   "pygments_lexer": "ipython3",
   "version": "3.12.9"
  }
 },
 "nbformat": 4,
 "nbformat_minor": 5
}
