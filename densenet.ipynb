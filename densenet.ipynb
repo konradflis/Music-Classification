{
 "cells": [
  {
   "cell_type": "markdown",
   "id": "68ea487a",
   "metadata": {},
   "source": [
    "### Model preparation"
   ]
  },
  {
   "cell_type": "code",
   "execution_count": 1,
   "id": "21716fa7",
   "metadata": {},
   "outputs": [],
   "source": [
    "import torch\n",
    "import torch.nn as nn\n",
    "from torchvision.models import densenet121\n",
    "from torch.utils.data import Dataset\n",
    "from torchvision import transforms\n",
    "from PIL import Image\n",
    "import os\n",
    "\n",
    "num_classes = 8\n",
    "\n",
    "model = densenet121()\n",
    "model.classifier = nn.Linear(model.classifier.in_features, num_classes)"
   ]
  },
  {
   "cell_type": "markdown",
   "id": "ae170c38",
   "metadata": {},
   "source": [
    "### Dataset preparation"
   ]
  },
  {
   "cell_type": "code",
   "execution_count": 2,
   "id": "128fb2c3",
   "metadata": {},
   "outputs": [],
   "source": [
    "class SpectrogramDataset(Dataset):\n",
    "    def __init__(self, csv_file, root_dir, transform=None, label_map=None):\n",
    "        self.annotations = pd.read_csv(csv_file)\n",
    "        self.root_dir = root_dir\n",
    "        self.transform = transform\n",
    "        self.label_map = label_map or self._build_label_map()\n",
    "\n",
    "    def _build_label_map(self):\n",
    "        labels = self.annotations['label'].unique()\n",
    "        return {label: idx for idx, label in enumerate(sorted(labels))}\n",
    "\n",
    "    def __len__(self):\n",
    "        return len(self.annotations)\n",
    "\n",
    "    def __getitem__(self, idx):\n",
    "        filename = self.annotations.iloc[idx, 0]\n",
    "        subfolder = filename[:3]\n",
    "        img_name = os.path.join(self.root_dir, subfolder, filename)\n",
    "        print(img_name)\n",
    "        image = Image.open(img_name).convert('RGB')\n",
    "        label_str = self.annotations.iloc[idx, 1]\n",
    "        label = self.label_map[label_str]\n",
    "\n",
    "        if self.transform:\n",
    "            image = self.transform(image)\n",
    "\n",
    "        return image, label\n"
   ]
  },
  {
   "cell_type": "code",
   "execution_count": null,
   "id": "e8197620",
   "metadata": {},
   "outputs": [],
   "source": [
    "import pandas as pd\n",
    "from sklearn.model_selection import train_test_split\n",
    "df = pd.read_csv(\"project_data/tracks.csv\")\n",
    "df['filename'] = df['track_id'].apply(lambda x: f\"{int(x):06d}.png\")\n",
    "df = df.dropna(subset=['genre'])\n",
    "labels_df = df[['filename', 'genre']].rename(columns={'genre': 'label'})\n",
    "train_df, val_df = train_test_split(\n",
    "    labels_df,\n",
    "    test_size=0.2,\n",
    "    stratify=labels_df['label'],\n",
    "    random_state=42\n",
    ")\n",
    "train_df.to_csv(\"project_data/train_set.csv\", index=False)\n",
    "val_df.to_csv(\"project_data/val_set.csv\", index=False)"
   ]
  },
  {
   "cell_type": "code",
   "execution_count": 4,
   "id": "0c385385",
   "metadata": {},
   "outputs": [],
   "source": [
    "transform = transforms.Compose([\n",
    "    transforms.Resize((224, 224)),\n",
    "    transforms.ToTensor(),\n",
    "])\n",
    "\n",
    "train_dataset = SpectrogramDataset(\n",
    "    csv_file='project_data/train_set.csv',\n",
    "    root_dir='project_data/spectrograms',\n",
    "    transform=transform\n",
    ")\n",
    "\n",
    "val_dataset = SpectrogramDataset(\n",
    "    csv_file='project_data/val_set.csv',\n",
    "    root_dir='project_data/spectrograms',\n",
    "    transform=transform\n",
    ")"
   ]
  },
  {
   "cell_type": "code",
   "execution_count": 12,
   "id": "d3e9ef6a",
   "metadata": {},
   "outputs": [
    {
     "name": "stdout",
     "output_type": "stream",
     "text": [
      "project_data/spectrograms\\006\\006330.png\n",
      "torch.Size([3, 224, 224])\n",
      "5\n",
      "{'Electronic': 0, 'Experimental': 1, 'Folk': 2, 'Hip-Hop': 3, 'Instrumental': 4, 'International': 5, 'Pop': 6, 'Rock': 7}\n"
     ]
    }
   ],
   "source": [
    "#validation\n",
    "image, label = train_dataset[1]\n",
    "print(image.shape)\n",
    "print(label)\n",
    "print(train_dataset.label_map)\n"
   ]
  },
  {
   "cell_type": "markdown",
   "id": "17149266",
   "metadata": {},
   "source": [
    "### Model training"
   ]
  },
  {
   "cell_type": "code",
   "execution_count": 14,
   "id": "e8310113",
   "metadata": {},
   "outputs": [
    {
     "ename": "NameError",
     "evalue": "name 'train_loader' is not defined",
     "output_type": "error",
     "traceback": [
      "\u001b[31m---------------------------------------------------------------------------\u001b[39m",
      "\u001b[31mNameError\u001b[39m                                 Traceback (most recent call last)",
      "\u001b[36mCell\u001b[39m\u001b[36m \u001b[39m\u001b[32mIn[14]\u001b[39m\u001b[32m, line 16\u001b[39m\n\u001b[32m     13\u001b[39m running_loss = \u001b[32m0.0\u001b[39m\n\u001b[32m     14\u001b[39m correct, total = \u001b[32m0\u001b[39m, \u001b[32m0\u001b[39m\n\u001b[32m---> \u001b[39m\u001b[32m16\u001b[39m \u001b[38;5;28;01mfor\u001b[39;00m inputs, labels \u001b[38;5;129;01min\u001b[39;00m \u001b[43mtrain_loader\u001b[49m:\n\u001b[32m     17\u001b[39m     inputs, labels = inputs.to(device), labels.to(device)\n\u001b[32m     19\u001b[39m     optimizer.zero_grad()\n",
      "\u001b[31mNameError\u001b[39m: name 'train_loader' is not defined"
     ]
    }
   ],
   "source": [
    "import torch.optim as optim\n",
    "\n",
    "device = torch.device(\"cuda\" if torch.cuda.is_available() else \"cpu\")\n",
    "model.to(device)\n",
    "\n",
    "criterion = nn.CrossEntropyLoss()\n",
    "optimizer = optim.Adam(model.parameters(), lr=0.0001)\n",
    "\n",
    "num_epochs = 10\n",
    "\n",
    "for epoch in range(num_epochs):\n",
    "    model.train()\n",
    "    running_loss = 0.0\n",
    "    correct, total = 0, 0\n",
    "\n",
    "    for inputs, labels in train_loader:\n",
    "        inputs, labels = inputs.to(device), labels.to(device)\n",
    "\n",
    "        optimizer.zero_grad()\n",
    "        outputs = model(inputs)\n",
    "\n",
    "        loss = criterion(outputs, labels)\n",
    "        loss.backward()\n",
    "        optimizer.step()\n",
    "\n",
    "        running_loss += loss.item()\n",
    "        _, predicted = torch.max(outputs, 1)\n",
    "        total += labels.size(0)\n",
    "        correct += (predicted == labels).sum().item()\n",
    "\n",
    "    acc = 100 * correct / total\n",
    "    print(f\"Epoch {epoch+1}, Loss: {running_loss:.4f}, Accuracy: {acc:.2f}%\")"
   ]
  },
  {
   "cell_type": "code",
   "execution_count": null,
   "id": "8bb91450",
   "metadata": {},
   "outputs": [],
   "source": []
  }
 ],
 "metadata": {
  "kernelspec": {
   "display_name": "Python (poetry)",
   "language": "python",
   "name": "myenv"
  },
  "language_info": {
   "codemirror_mode": {
    "name": "ipython",
    "version": 3
   },
   "file_extension": ".py",
   "mimetype": "text/x-python",
   "name": "python",
   "nbconvert_exporter": "python",
   "pygments_lexer": "ipython3",
   "version": "3.12.7"
  }
 },
 "nbformat": 4,
 "nbformat_minor": 5
}
