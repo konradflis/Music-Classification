{
 "cells": [
  {
   "cell_type": "code",
   "execution_count": null,
   "id": "5987591f",
   "metadata": {},
   "outputs": [
    {
     "name": "stdout",
     "output_type": "stream",
     "text": [
      "✅ Podział danych zakończony.\n"
     ]
    }
   ],
   "source": [
    "import os\n",
    "import shutil\n",
    "import random\n",
    "\n",
    "# Ścieżki do danych\n",
    "source_dir = r\"C:\\Users\\jakub\\Desktop\\muzyka_guiio\\Music-Classification\\project_data\\spectrograms\"\n",
    "train_dir = r\"C:\\Users\\jakub\\Desktop\\muzyka_guiio\\Music-Classification\\project_data\\train_spectrograms\"\n",
    "test_dir = r\"C:\\Users\\jakub\\Desktop\\muzyka_guiio\\Music-Classification\\project_data\\test_spectrograms\"\n",
    "\n",
    "test_ratio = 0.2  # 20% danych do testu\n",
    "\n",
    "# Tworzenie struktury katalogów\n",
    "def create_dirs(base_dir, classes):\n",
    "    os.makedirs(base_dir, exist_ok=True)\n",
    "    for cls in classes:\n",
    "        os.makedirs(os.path.join(base_dir, cls), exist_ok=True)\n",
    "\n",
    "# Lista gatunków (folderów)\n",
    "genres = [d for d in os.listdir(source_dir) if os.path.isdir(os.path.join(source_dir, d))]\n",
    "\n",
    "# Utwórz nowe foldery\n",
    "create_dirs(train_dir, genres)\n",
    "create_dirs(test_dir, genres)\n",
    "\n",
    "# Podział plików\n",
    "for genre in genres:\n",
    "    genre_path = os.path.join(source_dir, genre)\n",
    "    files = [f for f in os.listdir(genre_path) if f.lower().endswith('.png')]\n",
    "    random.shuffle(files)\n",
    "\n",
    "    split_point = int(len(files) * (1 - test_ratio))\n",
    "    train_files = files[:split_point]\n",
    "    test_files = files[split_point:]\n",
    "\n",
    "    # Kopiowanie plików treningowych\n",
    "    for file in train_files:\n",
    "        src = os.path.join(genre_path, file)\n",
    "        dst = os.path.join(train_dir, genre, file)\n",
    "        shutil.copy2(src, dst)\n",
    "\n",
    "    # Kopiowanie plików testowych\n",
    "    for file in test_files:\n",
    "        src = os.path.join(genre_path, file)\n",
    "        dst = os.path.join(test_dir, genre, file)\n",
    "        shutil.copy2(src, dst)\n",
    "\n",
    "print(\"Podział danych zakończony.\")\n"
   ]
  }
 ],
 "metadata": {
  "kernelspec": {
   "display_name": ".venv",
   "language": "python",
   "name": "python3"
  },
  "language_info": {
   "codemirror_mode": {
    "name": "ipython",
    "version": 3
   },
   "file_extension": ".py",
   "mimetype": "text/x-python",
   "name": "python",
   "nbconvert_exporter": "python",
   "pygments_lexer": "ipython3",
   "version": "3.12.3"
  }
 },
 "nbformat": 4,
 "nbformat_minor": 5
}
