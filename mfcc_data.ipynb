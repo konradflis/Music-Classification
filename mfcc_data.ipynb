{
 "cells": [
  {
   "cell_type": "code",
   "execution_count": null,
   "id": "4a2ea435",
   "metadata": {},
   "outputs": [],
   "source": [
    "import librosa\n",
    "import librosa.display\n",
    "import matplotlib.pyplot as plt\n",
    "import pandas as pd\n",
    "import numpy as np\n",
    "import utils"
   ]
  },
  {
   "cell_type": "code",
   "execution_count": null,
   "id": "dbce612b",
   "metadata": {},
   "outputs": [],
   "source": [
    "AUDIO_DIR = 'dataset/fma_small'"
   ]
  },
  {
   "cell_type": "code",
   "execution_count": null,
   "id": "e120cd9e",
   "metadata": {},
   "outputs": [],
   "source": [
    "# features = utils.load('dataset/fma_metadata/features.csv')\n",
    "# features.head()"
   ]
  },
  {
   "cell_type": "code",
   "execution_count": null,
   "id": "fab9db60",
   "metadata": {},
   "outputs": [],
   "source": [
    "tracks = pd.read_csv('project_data/tracks.csv', index_col=0)\n",
    "track_ids = tracks.index"
   ]
  },
  {
   "cell_type": "code",
   "execution_count": null,
   "id": "ee0b0536",
   "metadata": {},
   "outputs": [],
   "source": [
    "track_id = 2\n",
    "path = utils.get_audio_path(AUDIO_DIR, 2)\n",
    "\n",
    "# Load an audio file\n",
    "y, sr = librosa.load(path, sr=None)\n",
    "\n",
    "# Extract MFCCs\n",
    "mfccs = librosa.feature.mfcc(y=y, sr=sr, n_mfcc=13)\n",
    "\n",
    "# Display the MFCCs\n",
    "plt.figure(figsize=(10, 4))\n",
    "librosa.display.specshow(mfccs, x_axis='time', sr=sr)\n",
    "plt.colorbar()\n",
    "plt.title('MFCC')\n",
    "plt.tight_layout()\n",
    "plt.show()"
   ]
  },
  {
   "cell_type": "code",
   "execution_count": null,
   "id": "84225939",
   "metadata": {},
   "outputs": [],
   "source": [
    "# Compute stats across time axis\n",
    "mfcc_mean = np.mean(mfccs, axis=1)\n",
    "mfcc_min = np.min(mfccs, axis=1)\n",
    "mfcc_max = np.max(mfccs, axis=1)\n",
    "\n",
    "# Print or use the statistics\n",
    "for i in range(len(mfcc_mean)):\n",
    "    print(\n",
    "        f\"MFCC {i+1:02}: Mean={mfcc_mean[i]:.2f}, Min={mfcc_min[i]:.2f}, Max={mfcc_max[i]:.2f}\")"
   ]
  },
  {
   "cell_type": "code",
   "execution_count": null,
   "id": "6844321c",
   "metadata": {},
   "outputs": [],
   "source": [
    "# Create MultiIndex for columns\n",
    "multi_col_index = pd.MultiIndex.from_product(\n",
    "    [range(13), ['mean', 'min', 'max']], names=['mfcc_coeff', 'stat']\n",
    ")\n",
    "\n",
    "# Create DataFrame with MultiIndex columns and track_id as row index\n",
    "mfcc_df = pd.DataFrame(columns=multi_col_index, index=track_ids)\n",
    "\n",
    "cnt = 0\n",
    "\n",
    "for i in track_ids:\n",
    "    cnt += 1\n",
    "    if cnt % 100 == 0:\n",
    "        print(f\"Processing track {cnt}...\")\n",
    "    path = utils.get_audio_path(AUDIO_DIR, i)\n",
    "    y, sr = librosa.load(path, sr=None)\n",
    "    mfccs = librosa.feature.mfcc(y=y, sr=sr, n_mfcc=13)\n",
    "\n",
    "    mfcc_mean = np.mean(mfccs, axis=1)\n",
    "    mfcc_min = np.min(mfccs, axis=1)\n",
    "    mfcc_max = np.max(mfccs, axis=1)\n",
    "\n",
    "    data = np.stack([mfcc_mean, mfcc_min, mfcc_max], axis=1).flatten()\n",
    "\n",
    "    mfcc_df.loc[i] = data"
   ]
  },
  {
   "cell_type": "code",
   "execution_count": null,
   "id": "0bf135e6",
   "metadata": {},
   "outputs": [],
   "source": [
    "mfcc_df.head()"
   ]
  },
  {
   "cell_type": "code",
   "execution_count": null,
   "id": "63745a28",
   "metadata": {},
   "outputs": [],
   "source": [
    "mfcc_df.to_csv('project_data/mfcc_data.csv', index=True)"
   ]
  },
  {
   "cell_type": "code",
   "execution_count": null,
   "id": "d921e30e",
   "metadata": {},
   "outputs": [],
   "source": [
    "mfcc_df = utils.load_mfcc_data()"
   ]
  }
 ],
 "metadata": {
  "kernelspec": {
   "display_name": ".venv",
   "language": "python",
   "name": "python3"
  },
  "language_info": {
   "codemirror_mode": {
    "name": "ipython",
    "version": 3
   },
   "file_extension": ".py",
   "mimetype": "text/x-python",
   "name": "python",
   "nbconvert_exporter": "python",
   "pygments_lexer": "ipython3",
   "version": "3.13.2"
  }
 },
 "nbformat": 4,
 "nbformat_minor": 5
}
